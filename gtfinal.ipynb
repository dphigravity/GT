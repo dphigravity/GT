{
 "cells": [
  {
   "attachments": {},
   "cell_type": "markdown",
   "metadata": {},
   "source": [
    "# Install Directions"
   ]
  },
  {
   "cell_type": "code",
   "execution_count": 1,
   "metadata": {},
   "outputs": [],
   "source": [
    "# 1. download package\n",
    "# 2. create app on reddit, MSKrocks!!, dphigrvity2023 https://www.geeksforgeeks.org/scraping-reddit-using-python/\n",
    "# 3. secret- kR6EWhELqUWmkJHNU0Z4L94tIPyxhA, useragent- GTProject, clientid= heI2hGaX16nfVwvUpN9Ayg\n",
    "# 4. Scripts\\activate.ps1\n",
    "\n",
    "# questions to answer, over time, themes, related associations"
   ]
  },
  {
   "attachments": {},
   "cell_type": "markdown",
   "metadata": {},
   "source": [
    "Notes\n",
    " time is mentioned today, yesterday, year\n",
    " there is moderation\n",
    " boyfriend and girlfriend\n",
    " referenced age usually young\n",
    " reddit limit of 1000"
   ]
  },
  {
   "cell_type": "code",
   "execution_count": 103,
   "metadata": {},
   "outputs": [
    {
     "name": "stderr",
     "output_type": "stream",
     "text": [
      "[nltk_data] Downloading package punkt to\n",
      "[nltk_data]     C:\\Users\\sur\\AppData\\Roaming\\nltk_data...\n",
      "[nltk_data]   Package punkt is already up-to-date!\n"
     ]
    }
   ],
   "source": [
    "import praw\n",
    "import pandas as pd\n",
    "import datetime\n",
    "import numpy as np \n",
    "from tqdm._tqdm_notebook import tqdm_notebook,tnrange,tqdm\n",
    "import nltk\n",
    "nltk.download('punkt')\n",
    "import heapq\n",
    "import gensim\n",
    "from gensim import models,corpora\n",
    "import spacy\n",
    "from gensim.models.coherencemodel import CoherenceModel\n",
    "import matplotlib.pyplot as plt\n",
    "import seaborn as sns\n",
    "import pyLDAvis\n",
    "import pyLDAvis.gensim_models as gensimvis\n",
    "from gensim.models.ldamodel import LdaModel\n",
    "from pprint import pprint\n",
    "from sklearn.decomposition import LatentDirichletAllocation\n",
    "from gensim.models import Phrases\n",
    "\n"
   ]
  },
  {
   "attachments": {},
   "cell_type": "markdown",
   "metadata": {},
   "source": [
    "# Reddit Setup"
   ]
  },
  {
   "cell_type": "code",
   "execution_count": 3,
   "metadata": {},
   "outputs": [],
   "source": [
    "# Variables\n",
    "len_posts= 10000\n",
    "community_name='cancer'\n",
    "#community_name='asknyc'\n",
    "len_comment=10"
   ]
  },
  {
   "cell_type": "code",
   "execution_count": 4,
   "metadata": {},
   "outputs": [
    {
     "name": "stdout",
     "output_type": "stream",
     "text": [
      "Display Name: cancer\n",
      "Title: Cancer: Discussion & Support\n",
      "Description: ######New rules have been implemented\n",
      "\n",
      "###About Us\n",
      "\n",
      "This reddit is a place for people with cancer and caregivers to come together and provide support for one other.\n",
      "\n",
      "###Rules\n",
      "\n",
      "1. No Blogspam\n",
      "2. No solicitations\n",
      "3. No donation requests\n",
      "4. No \"is this cancer\" questions\n",
      "5. No homeopathy / nature / quack medicine\n",
      "6. Mods have the right to remove your post at their discretion \n",
      "7. All posts linking scientific studies must include a summary paragraph written by the poster.\n",
      "\n",
      "###Misc Info\n",
      "\n",
      "* Join the /r/Cancer Discord server here: https://discord.gg/cancersupport\n",
      "\n",
      "* Got an idea to improve /r/Cancer? Make a post describing your thoughts.\n",
      "\n",
      "* See something thats not supposed to be here? Press the **report button.** And tell us why.\n",
      "\n",
      "* Need to talk to a mod? [Message us](http://www.reddit.com/message/compose?to=%23cancer).\n",
      "\n",
      "\n",
      "\n",
      "###External Sites\n",
      "\n",
      "* [American Cancer Society](http://www.cancer.org/)\n",
      "* [National Cancer Institute](http://www.cancer.gov/)\n",
      "* [Livestrong](http://www.livestrong.org/)\n",
      "* [I'm too young for this! Cancer Foundation](http://www.stupidcancer.com/)\n",
      "* [CURE](http://www.curechildhoodcancer.org/)  \n",
      "* [Prostate Cancer Foundation](http://www.pcf.org/)\n",
      "* [Susan G. Komen Breast Cancer Foundation](http://www.komen.org/)\n",
      "* [Cancer Legal Resource Center](https://thedrlc.org/)\n",
      "* [Pancreatic Cancer Action Network](http://www.pancan.org/)\n",
      "* [International Myeloma Foundation](http://www.myeloma.org/)\n",
      "* [Sacks of Love](http://facebook.com/sacksoflove.org)\n",
      "* [Be The Match](http://www.bethematch.com/)\n",
      "* [Breast Cancer Support Discussion](http://community.breastcancer.org/)\n",
      "* [Leukemia & Lymphoma Society](http://www.lls.org/)\n",
      "* [Momcology](http://www.momcology.org/) - Pediatric cancer support \n",
      "* [Cancer Research UK](http://www.cancerresearchuk.org/about-cancer/)\n",
      "* [US clinical trials registry](https://clinicaltrials.gov/)\n",
      "* [The Ulman Fund](http://www.ulmanfund.org/)\n",
      "* [Blood & Marrow TIN](http://www.bmtinfonet.org)  \n",
      "\n",
      "###Other Fine Reddits\n",
      "\n",
      "* [Health](/r/health)\n",
      "* [Fitness](/r/fitness)\n",
      "* [Pancreatic Cancer](/r/PancreaticCancer)\n",
      "* [Pediatric Cancer](/r/pediatriccancer)\n",
      "* [Stop Smoking](/r/stopsmoking)\n",
      "* [Get Motivated](/r/Getmotivated)\n",
      "* [Fuck Cancer](/r/fuckcancer)\n",
      "* [Depression](/r/Depression)\n",
      "* [Assistance](/r/assistance)\n",
      "* [Random Kindness](/r/randomkindness)\n",
      "* [Random Acts Of Kindness](/r/randomactsofkindness)\n",
      "* [Brain Cancer](/r/braincancer)\n",
      "* [Care Giver Support](/r/CaregiverSupport)\n",
      "* [Prostate Cancer](/r/ProstateCancer)\n",
      "* [Lymphoma](/r/lymphoma)\n",
      "* [Stage 4 Cancer](/r/stage4cancer)\n",
      "\n",
      "###Something Different\n",
      "\n",
      "* [CancerOwl Comics](https://cancerowl.com/)\n",
      "\n",
      "###Thanks\n",
      "\n",
      "##^[jaxspider](/user/jaxspider) ^for ^the ^logo ^& ^CSS.\n"
     ]
    }
   ],
   "source": [
    "reddit_read_only = praw.Reddit(client_id=\"heI2hGaX16nfVwvUpN9Ayg\",         # your client id\n",
    "                               client_secret=\"iydVBDtmgtXXV5xVgHXtPXatC42wdQ\",      # your client secret\n",
    "                               user_agent=\"GTProject\")        # your user agent\n",
    "\n",
    "subreddit = reddit_read_only.subreddit(community_name)\n",
    " \n",
    "# Display the name of the Subreddit\n",
    "print(\"Display Name:\", subreddit.display_name)\n",
    " \n",
    "# Display the title of the Subreddit\n",
    "print(\"Title:\", subreddit.title)\n",
    " \n",
    "# Display the description of the Subreddit\n",
    "print(\"Description:\", subreddit.description)"
   ]
  },
  {
   "attachments": {},
   "cell_type": "markdown",
   "metadata": {},
   "source": [
    "# Top and Hot Posts"
   ]
  },
  {
   "cell_type": "code",
   "execution_count": 158,
   "metadata": {},
   "outputs": [],
   "source": [
    "top_post = []\n",
    "for post in subreddit.top(limit=len_posts):\n",
    "    top_post.append([post.title, post.score, post.id, post.subreddit, post.url, post.num_comments, post.selftext, post.created,post.title+\". \"+post.selftext])\n",
    "top_posts = pd.DataFrame(top_post,columns=['title', 'score', 'id', 'subreddit', 'url', 'num_comments', 'body', 'created', 'text'])\n",
    "\n",
    "# hot_post = []\n",
    "# for post in subreddit.hot(limit=len_posts):\n",
    "#     hot_post.append([post.title, post.score, post.id, post.subreddit, post.url, post.num_comments, post.selftext, post.created,post.title])\n",
    "# hot_posts = pd.DataFrame(hot_post,columns=['title', 'score', 'id', 'subreddit', 'url', 'num_comments', 'body', 'created','text'])"
   ]
  },
  {
   "cell_type": "code",
   "execution_count": 61,
   "metadata": {},
   "outputs": [],
   "source": [
    "top_posts.to_csv(\"top_posts-\"+community_name+\".csv\") "
   ]
  },
  {
   "attachments": {},
   "cell_type": "markdown",
   "metadata": {},
   "source": [
    "# Comments"
   ]
  },
  {
   "cell_type": "code",
   "execution_count": 7,
   "metadata": {},
   "outputs": [],
   "source": [
    "# top_comment = []\n",
    "\n",
    "# for id in top_posts['id']: \n",
    "#     submission = reddit_read_only.submission(id)\n",
    "#     comments = submission.comments.replace_more(limit=len_comment)\n",
    "#     comments = submission.comments.list()\n",
    "\n",
    "#     for comment in comments:\n",
    "#         comment_id = comment.id\n",
    "#         create = datetime.datetime.fromtimestamp(comment.created)\n",
    "#         text = comment.body\n",
    "#         top_comment.append([id,comment_id,create,text,])\n",
    "#     df_comments = pd.DataFrame(top_comment,columns=['id','comment_id','created','text'])"
   ]
  },
  {
   "attachments": {},
   "cell_type": "markdown",
   "metadata": {},
   "source": [
    "# Set up Models"
   ]
  },
  {
   "cell_type": "code",
   "execution_count": 159,
   "metadata": {},
   "outputs": [],
   "source": [
    "# Define variables and stop words\n",
    "nlp = spacy.load('en_core_web_sm')\n",
    "data= top_posts # Define data to use. refer to column text\n",
    "\n",
    "nlp.Defaults.stop_words |= {\"cancer\",\"patient\",\"chemo\", \"treatment\", \"chemotherapy\", \"radiation\", \"chemo\", \"yesterday\",\"year\",\"today\"\n",
    "                                ,\"day\",\"good\", \"month\", \"time\",\"tomorrow\", \"week\", \"feel\",\"thing\", \"think\",\"people\"\n",
    "                                ,\"want\", \"tell\", \"know\",\"believe\",\"bear\", \"mountain\", \"lion\",\"run\", \"bad\", \"life\",\"thank\", \"work\"\n",
    "                                ,\"love\",\"come\",\"post\",\"start\",\"live\",\"die\",\"friend\",\"pain\",\"time\",\"update\",\"pass\"\n",
    "                                ,\"hour\",\"person\",\"sub\",\"story\",\"happen\",\"guy\",\"fuck\",\"old\",\"morning\",\"need\",\"find\",\"leave\"\n",
    "                                ,\"need\",\"help\",\"hope\",\"try\",\"look\",\"way\",\"let\",\"lot\",\"ask\",\"wish\",\"read\", \"fight\",\"battle\",\"fucking\"\n",
    "                                ,\"family\",\"doctor\",\"kill\",\"shit\",\"little\",\"bring\",\"able\",\"great\",\"eat\",\"surgery\",\"stage\"}\n",
    "\n",
    "# Functions\n",
    "def conv_string(text):\n",
    "    text_out=[]\n",
    "    for ind in text:\n",
    "        a=ind\n",
    "        a=' '.join(str(v) for v in a)\n",
    "        text_out.append(a)\n",
    "    return text_out\n",
    "\n",
    "def lemma(text):\n",
    "    text_out=[]\n",
    "    doc=nlp(text)\n",
    "    for token in doc:\n",
    "        text_out.append(token.lemma_)\n",
    "    return text_out\n",
    "\n",
    "def clean_up(text):\n",
    "    removal=['ADV','PRON','CCONJ','PUNCT','PART','DET','ADP','SPACE','AUX']\n",
    "    text_out = []\n",
    "    doc= nlp(text)\n",
    "    for token in doc:\n",
    "    \n",
    "        if token.is_stop == False and token.is_alpha and len(token)>=2 and token.pos_ not in removal:\n",
    "            text_out.append(token)\n",
    "    return text_out\n",
    "    \n",
    "\n"
   ]
  },
  {
   "cell_type": "code",
   "execution_count": 160,
   "metadata": {},
   "outputs": [],
   "source": [
    "data1= data.text.apply(lambda x:x.lower())\n",
    "data1=pd.DataFrame({'index':data1.index, 'text':data1.values})\n",
    "\n",
    "data2 = data1.text.apply(lambda x: clean_up(x)) # returns list in list\n",
    "data2=pd.DataFrame({'index':data2.index, 'text':data2.values})\n",
    "\n",
    "data3= conv_string(data2.text)   \n",
    "data3= pd.DataFrame(data3, columns=['text'])   \n",
    "\n",
    "data4= data3.text.apply(lambda x: lemma(x))\n",
    "data4= pd.DataFrame(data4, columns=['text'])  \n",
    "data4= conv_string(data4.text)   \n",
    "data4 = pd.DataFrame({'text':data4})\n",
    "\n",
    "datalist= data4.text.apply(lambda x: clean_up(x)) #cleaned up data\n",
    "datalist = pd.DataFrame({'text':datalist}) #to dataframe\n",
    "datalist= conv_string(datalist.text)   # combine to text\n"
   ]
  },
  {
   "attachments": {},
   "cell_type": "markdown",
   "metadata": {},
   "source": [
    "# Bag of Words"
   ]
  },
  {
   "cell_type": "code",
   "execution_count": 161,
   "metadata": {},
   "outputs": [],
   "source": [
    "word2count = {}\n",
    "for d in datalist:\n",
    "  \n",
    "    line = nltk.word_tokenize(d)\n",
    "    for word in line:\n",
    "    \n",
    "        if word not in word2count.keys():\n",
    "            word2count[word] = 1\n",
    "            \n",
    "        else:\n",
    "            word2count[word] += 1\n",
    "     \n",
    "sorted_dict=sorted(word2count.items(), key=lambda x: x[1], reverse=True)\n",
    "\n",
    "bagofwords=pd.DataFrame(sorted_dict, columns=['word',\"freq\"])\n",
    "bagofwords.to_csv(\"bagofwords-\"+community_name+\".csv\")"
   ]
  },
  {
   "attachments": {},
   "cell_type": "markdown",
   "metadata": {},
   "source": [
    "# Topic Modelling\n",
    "\n"
   ]
  },
  {
   "attachments": {},
   "cell_type": "markdown",
   "metadata": {},
   "source": [
    "## Create matrix"
   ]
  },
  {
   "cell_type": "code",
   "execution_count": 162,
   "metadata": {},
   "outputs": [],
   "source": [
    "text_tokens = [[text for text in doc.split()] for doc in datalist]\n",
    "\n",
    "# Add bigrams and trigrams to docs (only ones that appear 20 times or more).\n",
    "bigram = Phrases(text_tokens, min_count=5)\n",
    "for idx in range(len(text_tokens)):\n",
    "    for token in bigram[text_tokens[idx]]:\n",
    "        if '_' in token:\n",
    "            # Token is a bigram, add to document.\n",
    "            text_tokens[idx].append(token)\n",
    "\n",
    "dictionary = corpora.Dictionary(text_tokens)\n",
    "doc_term_matrix = [dictionary.doc2bow(doc) for doc in text_tokens]\n",
    "\n",
    "# Human readable format of corpus (term-frequency)\n",
    "# [[(dictionary[id], freq) for id, freq in cp] for cp in doc_term_matrix[:100]]"
   ]
  },
  {
   "attachments": {},
   "cell_type": "markdown",
   "metadata": {},
   "source": [
    "## Tune Model"
   ]
  },
  {
   "cell_type": "code",
   "execution_count": 163,
   "metadata": {},
   "outputs": [],
   "source": [
    "# Lda = models.LdaMulticore\n",
    "# coherenceList_umass = []\n",
    "# coherenceList_cv = []\n",
    "# num_topics_list = np.arange(3,26)\n",
    "# for num_topics in tqdm(num_topics_list):\n",
    "#     lda= Lda(doc_term_matrix, num_topics=num_topics,id2word = dictionary, \n",
    "#              passes=20,chunksize=2000,random_state=3)\n",
    "#     cm = CoherenceModel(model=lda, corpus=doc_term_matrix, \n",
    "#                         dictionary=dictionary, coherence='u_mass')\n",
    "#     coherenceList_umass.append(cm.get_coherence())\n",
    "#     cm_cv = CoherenceModel(model=lda, corpus=doc_term_matrix,\n",
    "#                            texts=datalist, dictionary=dictionary, coherence='c_v')\n",
    "  "
   ]
  },
  {
   "attachments": {},
   "cell_type": "markdown",
   "metadata": {},
   "source": [
    "## Plot Coherence Score"
   ]
  },
  {
   "cell_type": "code",
   "execution_count": 164,
   "metadata": {},
   "outputs": [],
   "source": [
    "# plotData = pd.DataFrame({'Number of topics':num_topics_list,\n",
    "#                          'CoherenceScore':coherenceList_umass})\n",
    "# f,ax = plt.subplots(figsize=(10,6))\n",
    "# sns.set_style(\"darkgrid\")\n",
    "# sns.pointplot(x='Number of topics',y= 'CoherenceScore',data=plotData)\n",
    "# plt.axhline(y=-3.9)\n",
    "# plt.title('Topic coherence')\n",
    "# plt.savefig('Topic coherence plot.png')"
   ]
  },
  {
   "attachments": {},
   "cell_type": "markdown",
   "metadata": {},
   "source": [
    "## Model Build"
   ]
  },
  {
   "cell_type": "code",
   "execution_count": 165,
   "metadata": {},
   "outputs": [
    {
     "name": "stdout",
     "output_type": "stream",
     "text": [
      "[(0,\n",
      "  '0.006*\"melanoma\" + 0.006*\"scan\" + 0.005*\"oncologist\" + 0.005*\"free\" + '\n",
      "  '0.005*\"result\" + 0.005*\"tumor\" + 0.005*\"lung\" + 0.004*\"remission\" + '\n",
      "  '0.004*\"new\" + 0.004*\"lymph\"'),\n",
      " (1,\n",
      "  '0.011*\"scan\" + 0.009*\"tumor\" + 0.008*\"diagnose\" + 0.007*\"news\" + '\n",
      "  '0.006*\"hospital\" + 0.006*\"lung\" + 0.005*\"liver\" + 0.005*\"happy\" + '\n",
      "  '0.005*\"result\" + 0.004*\"end\"'),\n",
      " (2,\n",
      "  '0.006*\"dad\" + 0.005*\"lose\" + 0.005*\"diagnose\" + 0.005*\"miss\" + 0.004*\"care\" '\n",
      "  '+ 0.004*\"mean\" + 0.004*\"end\" + 0.004*\"hospital\" + 0.004*\"edit\" + '\n",
      "  '0.003*\"stop\"'),\n",
      " (3,\n",
      "  '0.014*\"mom\" + 0.008*\"dad\" + 0.007*\"lose\" + 0.006*\"hospital\" + '\n",
      "  '0.006*\"diagnose\" + 0.005*\"support\" + 0.005*\"husband\" + 0.004*\"care\" + '\n",
      "  '0.004*\"talk\" + 0.004*\"sister\"'),\n",
      " (4,\n",
      "  '0.006*\"diagnose\" + 0.005*\"lose\" + 0.005*\"end\" + 0.005*\"wife\" + 0.005*\"stay\" '\n",
      "  '+ 0.004*\"school\" + 0.004*\"hospital\" + 0.004*\"brain\" + 0.004*\"body\" + '\n",
      "  '0.004*\"hair\"')]\n"
     ]
    }
   ],
   "source": [
    "num_topics=5\n",
    "num_words=3\n",
    "\n",
    "# 5 topics, 3 words seems to work well, 6 and 3 also\n",
    "\n",
    "Lda = models.LdaMulticore\n",
    "lda= Lda(doc_term_matrix, num_topics=num_topics,id2word = dictionary, \n",
    "         passes=20,chunksize=2000,random_state=3)\n",
    "\n",
    "pprint(lda.print_topics())"
   ]
  },
  {
   "cell_type": "code",
   "execution_count": 166,
   "metadata": {},
   "outputs": [],
   "source": [
    "# Alternate LDA Model\n",
    "# lda_model = LdaModel(corpus=doc_term_matrix,\n",
    "#                    id2word=dictionary,\n",
    "#                    num_topics=5,\n",
    "#                    random_state=0,\n",
    "#                    chunksize=1000,\n",
    "#                    alpha='auto',\n",
    "#                    per_word_topics=True)\n",
    "\n",
    "# pprint(lda_model.print_topics())\n",
    "# doc_lda = lda_model[doc_term_matrix]"
   ]
  },
  {
   "cell_type": "code",
   "execution_count": 167,
   "metadata": {},
   "outputs": [
    {
     "data": {
      "text/html": [
       "<div>\n",
       "<style scoped>\n",
       "    .dataframe tbody tr th:only-of-type {\n",
       "        vertical-align: middle;\n",
       "    }\n",
       "\n",
       "    .dataframe tbody tr th {\n",
       "        vertical-align: top;\n",
       "    }\n",
       "\n",
       "    .dataframe thead th {\n",
       "        text-align: right;\n",
       "    }\n",
       "</style>\n",
       "<table border=\"1\" class=\"dataframe\">\n",
       "  <thead>\n",
       "    <tr style=\"text-align: right;\">\n",
       "      <th></th>\n",
       "      <th>Topic</th>\n",
       "      <th>words</th>\n",
       "      <th>cs</th>\n",
       "    </tr>\n",
       "  </thead>\n",
       "  <tbody>\n",
       "    <tr>\n",
       "      <th>1</th>\n",
       "      <td>Topic2</td>\n",
       "      <td>{tumor, scan, diagnose}</td>\n",
       "      <td>-1.605936</td>\n",
       "    </tr>\n",
       "    <tr>\n",
       "      <th>0</th>\n",
       "      <td>Topic1</td>\n",
       "      <td>{oncologist, melanoma, scan}</td>\n",
       "      <td>-1.815941</td>\n",
       "    </tr>\n",
       "    <tr>\n",
       "      <th>2</th>\n",
       "      <td>Topic3</td>\n",
       "      <td>{lose, diagnose, dad}</td>\n",
       "      <td>-1.823998</td>\n",
       "    </tr>\n",
       "    <tr>\n",
       "      <th>3</th>\n",
       "      <td>Topic4</td>\n",
       "      <td>{mom, lose, dad}</td>\n",
       "      <td>-1.823998</td>\n",
       "    </tr>\n",
       "    <tr>\n",
       "      <th>4</th>\n",
       "      <td>Topic5</td>\n",
       "      <td>{end, lose, diagnose}</td>\n",
       "      <td>-2.577878</td>\n",
       "    </tr>\n",
       "  </tbody>\n",
       "</table>\n",
       "</div>"
      ],
      "text/plain": [
       "    Topic                         words        cs\n",
       "1  Topic2       {tumor, scan, diagnose} -1.605936\n",
       "0  Topic1  {oncologist, melanoma, scan} -1.815941\n",
       "2  Topic3         {lose, diagnose, dad} -1.823998\n",
       "3  Topic4              {mom, lose, dad} -1.823998\n",
       "4  Topic5         {end, lose, diagnose} -2.577878"
      ]
     },
     "execution_count": 167,
     "metadata": {},
     "output_type": "execute_result"
    }
   ],
   "source": [
    "a = lda.show_topics(num_topics,formatted=False,num_words=num_words)\n",
    "b = lda.top_topics(doc_term_matrix,dictionary=dictionary,topn=10) # This orders the topics in the decreasing order of coherence score\n",
    "\n",
    "topic2skillb = {}\n",
    "topic2csb = {}\n",
    "topic2skilla = {}\n",
    "topic2csa = {}\n",
    "num_topics =lda.num_topics\n",
    "cnt =1\n",
    "\n",
    "for ws in b:\n",
    "    wset = set(w[1] for w in ws[0])\n",
    "    topic2skillb[cnt] = wset\n",
    "    topic2csb[cnt] = ws[1]\n",
    "    cnt +=1\n",
    "\n",
    "for ws in a:\n",
    "    wset = set(w[0]for w in ws[1])\n",
    "    topic2skilla[ws[0]+1] = wset\n",
    "    \n",
    "for i in range(1,num_topics+1):\n",
    "    for j in range(1,num_topics+1):  \n",
    "        if topic2skilla[i].intersection(topic2skillb[j])==topic2skilla[i]:\n",
    "            topic2csa[i] = topic2csb[j]\n",
    "\n",
    "finalData = pd.DataFrame([],columns=['Topic','words'])\n",
    "finalData['Topic']=topic2skilla.keys()\n",
    "finalData['Topic'] = finalData['Topic'].apply(lambda x: 'Topic'+str(x))\n",
    "finalData['words']=topic2skilla.values()\n",
    "finalData['cs'] = topic2csa.values()\n",
    "finalData.sort_values(by='cs',ascending=False,inplace=True)\n",
    "finalData.to_csv('CoherenceScore-'+community_name+'.csv')\n",
    "finalData"
   ]
  },
  {
   "attachments": {},
   "cell_type": "markdown",
   "metadata": {},
   "source": [
    "# Visual"
   ]
  },
  {
   "cell_type": "code",
   "execution_count": 168,
   "metadata": {},
   "outputs": [
    {
     "name": "stderr",
     "output_type": "stream",
     "text": [
      "c:\\Users\\sur\\VS Code\\GTFinalProject\\.venv\\lib\\site-packages\\ipykernel_launcher.py:31: FutureWarning: As the xlwt package is no longer maintained, the xlwt engine will be removed in a future version of pandas. This is the only engine in pandas that supports writing in the xls format. Install openpyxl and write to an xlsx file instead. You can set the option io.excel.xls.writer to 'xlwt' to silence this warning. While this option is deprecated and will also raise a warning, it can be globally set and the warning suppressed.\n"
     ]
    }
   ],
   "source": [
    "def format_topics_sentences(ldamodel=lda, corpus=doc_term_matrix, texts=data):\n",
    "    # Init output\n",
    "    sent_topics_df = pd.DataFrame()\n",
    "\n",
    "    # Get main topic in each document\n",
    "    for i, row in enumerate(ldamodel[corpus]):\n",
    "        row = sorted(row, key=lambda x: (x[1]), reverse=True)\n",
    "        # Get the Dominant topic, Perc Contribution and Keywords for each document\n",
    "        for j, (topic_num, prop_topic) in enumerate(row):\n",
    "            if j == 0:  # => dominant topic\n",
    "                wp = ldamodel.show_topic(topic_num)\n",
    "                topic_keywords = \", \".join([word for word, prop in wp])\n",
    "                sent_topics_df = sent_topics_df.append(pd.Series([int(topic_num), round(prop_topic,4), topic_keywords]), ignore_index=True)\n",
    "            else:\n",
    "                break\n",
    "    sent_topics_df.columns = ['Dominant_Topic', 'Perc_Contribution', 'Topic_Keywords']\n",
    "\n",
    "    # Add original text to the end of the output\n",
    "    contents = pd.Series(texts)\n",
    "    sent_topics_df = pd.concat([sent_topics_df, contents], axis=1)\n",
    "    return(sent_topics_df)\n",
    "\n",
    "\n",
    "df_topic_sents_keywords = format_topics_sentences(ldamodel=lda, corpus=doc_term_matrix, texts=top_posts.text)\n",
    "\n",
    "# Format\n",
    "df_dominant_topic = df_topic_sents_keywords.reset_index()\n",
    "df_dominant_topic.columns = ['Document_No', 'Dominant_Topic', 'Topic_Perc_Contrib', 'Keywords', 'Text']\n",
    "\n",
    "# Show\n",
    "df_dominant_topic.to_excel(\"dominant-\"+community_name+\".xls\")"
   ]
  },
  {
   "cell_type": "code",
   "execution_count": 169,
   "metadata": {},
   "outputs": [
    {
     "name": "stderr",
     "output_type": "stream",
     "text": [
      "c:\\Users\\sur\\VS Code\\GTFinalProject\\.venv\\lib\\site-packages\\pyLDAvis\\_prepare.py:247: FutureWarning: In a future version of pandas all arguments of DataFrame.drop except for the argument 'labels' will be keyword-only\n",
      "  by='saliency', ascending=False).head(R).drop('saliency', 1)\n"
     ]
    },
    {
     "data": {
      "text/html": [
       "\n",
       "<link rel=\"stylesheet\" type=\"text/css\" href=\"https://cdn.jsdelivr.net/gh/bmabey/pyLDAvis@3.3.1/pyLDAvis/js/ldavis.v1.0.0.css\">\n",
       "\n",
       "\n",
       "<div id=\"ldavis_el1046817185027162325394424059\"></div>\n",
       "<script type=\"text/javascript\">\n",
       "\n",
       "var ldavis_el1046817185027162325394424059_data = {\"mdsDat\": {\"x\": [0.03364634769138761, -0.084603149666161, -0.03634861916074472, -0.027563917760487867, 0.11486933889600615], \"y\": [-0.03927686105494603, -0.05249376775829399, -0.01448706076824821, 0.11129388422684834, -0.005036194645360141], \"topics\": [1, 2, 3, 4, 5], \"cluster\": [1, 1, 1, 1, 1], \"Freq\": [36.35728397780028, 22.963657415003745, 18.90520647387498, 10.984587160976359, 10.789264972344634]}, \"tinfo\": {\"Term\": [\"scan\", \"mom\", \"result\", \"melanoma\", \"lymph\", \"dad\", \"oncologist\", \"node\", \"pet\", \"tumor\", \"remission\", \"news\", \"lymph_node\", \"miss\", \"lose\", \"hair\", \"pet_scan\", \"celebrate\", \"school\", \"free\", \"sister\", \"ct\", \"port\", \"wife\", \"god\", \"clear\", \"remove\", \"husband\", \"stay\", \"sit\", \"shrink\", \"mutation\", \"curable\", \"genetic\", \"marker\", \"range\", \"white\", \"success\", \"biopsy_result\", \"high_grade\", \"worse\", \"skull\", \"high_dose\", \"scans\", \"ct_scan\", \"fever\", \"mm\", \"mris\", \"pizza\", \"thanksgiving\", \"neuroendocrine\", \"experienced\", \"tho\", \"reveal\", \"wreck\", \"tumor_shrink\", \"biopsy\", \"share_news\", \"sbrt\", \"extensive\", \"growth\", \"shrunk\", \"scan\", \"news\", \"pet\", \"pet_scan\", \"cm\", \"keytruda\", \"spread_liver\", \"tumor\", \"routine\", \"christmas\", \"ct\", \"result\", \"liver\", \"april\", \"dose\", \"count\", \"meeting\", \"certain\", \"remove\", \"lymph\", \"mri\", \"point\", \"oncologist\", \"diagnose\", \"lung\", \"happy\", \"test\", \"begin\", \"node\", \"small\", \"round\", \"surgeon\", \"blood\", \"beat\", \"hospital\", \"diagnosis\", \"walk\", \"spread\", \"leg\", \"end\", \"brain\", \"bone\", \"new\", \"meet\", \"dad\", \"free\", \"mom\", \"turn\", \"wife\", \"lose\", \"nose\", \"husband_face\", \"stagger\", \"cliff\", \"kale\", \"ground\", \"bloody\", \"fridge\", \"slice\", \"punch_face\", \"mama\", \"fang\", \"busy_case\", \"dead_sure\", \"ferocious\", \"asthma\", \"goddammit_stop\", \"prehistoric\", \"wait_rush\", \"clutch\", \"epic_roll\", \"godless\", \"reason_crowd\", \"walk_stagger\", \"rush_kick\", \"amazing_brave\", \"crafty\", \"wait_fridge\", \"wife_punch\", \"leap_lock\", \"yell\", \"flee\", \"rush\", \"roll\", \"punch\", \"mom\", \"sister\", \"easy\", \"asleep\", \"husband\", \"father\", \"ankle\", \"brave\", \"face\", \"powerless\", \"dad\", \"comfortable\", \"sible\", \"mother\", \"grief\", \"comfort\", \"lose\", \"watch\", \"support\", \"eye\", \"heart\", \"care\", \"hospital\", \"talk\", \"miss\", \"stop\", \"diagnose\", \"hand\", \"fall\", \"sure\", \"parent\", \"death\", \"night\", \"suffer\", \"cell\", \"end\", \"write\", \"thought\", \"cry\", \"lung\", \"sleep\", \"body\", \"levi\", \"social_medium\", \"medium\", \"andreas\", \"tremendous\", \"afford\", \"package\", \"window\", \"nail\", \"blah\", \"harsh\", \"humour\", \"identical\", \"whore\", \"mobile\", \"employee\", \"pmc\", \"pt\", \"vaccine\", \"peritoneum\", \"spell\", \"flood\", \"functional\", \"kevin\", \"paranoid\", \"appreciation\", \"profile\", \"upcoming\", \"field\", \"marine\", \"rage\", \"pissed\", \"peaceful\", \"search\", \"social\", \"heart_break\", \"reddit\", \"making\", \"brother\", \"shitty\", \"rule\", \"clinical_trial\", \"random\", \"clinical\", \"hip\", \"hate\", \"angry\", \"miss\", \"approve\", \"comment\", \"god\", \"send\", \"kind\", \"feeling\", \"mean\", \"trial\", \"edit\", \"dad\", \"insurance\", \"care\", \"lose\", \"stop\", \"place\", \"job\", \"break\", \"deal\", \"heart\", \"real\", \"diagnose\", \"understand\", \"tired\", \"guess\", \"end\", \"wife\", \"support\", \"new\", \"death\", \"hospital\", \"brain\", \"tumor\", \"talk\", \"diagnosis\", \"mom\", \"shave\", \"silly\", \"parking\", \"val\", \"math\", \"attract\", \"toe\", \"librarian\", \"unsolicited\", \"journal\", \"kart\", \"instinct\", \"charleston\", \"revalidation\", \"reside\", \"shaving\", \"mate\", \"rubbish\", \"pan\", \"harmful\", \"instance\", \"mega\", \"succ\", \"magnum\", \"vietnam\", \"manifest\", \"limp\", \"insecurity\", \"handicap\", \"psc\", \"gift\", \"antibiotic\", \"blanket\", \"happend\", \"mouth\", \"buddy\", \"bedroom\", \"pit\", \"hair\", \"bald\", \"school\", \"port\", \"sound\", \"awkward\", \"worry\", \"stay\", \"wife\", \"tired\", \"young\", \"finish\", \"lobe\", \"lovely\", \"body\", \"end\", \"lose\", \"house\", \"like\", \"brain\", \"diagnose\", \"kid\", \"head\", \"er\", \"enjoy\", \"age\", \"hospital\", \"place\", \"share\", \"spend\", \"normal\", \"night\", \"support\", \"happy\", \"talk\", \"change\", \"mean\", \"diagnosis\", \"melanoma\", \"ostomy\", \"campus\", \"mole\", \"bell\", \"chart\", \"firm\", \"enemy\", \"roxybenedicto\", \"roxy\", \"tbh\", \"idiot\", \"america\", \"compwalla\", \"border\", \"xanex\", \"norm\", \"miranda\", \"remodel\", \"cheese\", \"industry\", \"mychart\", \"quarterly\", \"atypical\", \"ipilimumab\", \"pleased\", \"vertebra\", \"testicle\", \"sentinel\", \"tile\", \"celebrate\", \"rang\", \"quote\", \"opdivo\", \"boost\", \"radiotherapy\", \"cancerous\", \"radiologist\", \"masse\", \"nodule\", \"concerned\", \"folk\", \"gamma\", \"disney\", \"complete\", \"undergo\", \"urine\", \"lymph_node\", \"lymph\", \"remission\", \"node\", \"oncologist\", \"friday\", \"free\", \"result\", \"thyroid\", \"outcome\", \"clear\", \"follow\", \"encouragement\", \"sit\", \"scan\", \"anniversary\", \"new\", \"remove\", \"response\", \"different\", \"lung\", \"birthday\", \"long\", \"advice\", \"tumor\", \"edit\", \"write\", \"word\", \"spread\", \"talk\", \"happy\", \"right\", \"mom\", \"care\", \"news\", \"end\"], \"Freq\": [217.0, 242.0, 108.0, 34.0, 61.0, 187.0, 115.0, 56.0, 60.0, 213.0, 72.0, 141.0, 49.0, 92.0, 194.0, 41.0, 46.0, 29.0, 56.0, 118.0, 66.0, 49.0, 34.0, 122.0, 43.0, 43.0, 106.0, 94.0, 101.0, 57.0, 28.05813327931091, 8.5862893981404, 10.294211714938005, 10.209012826037624, 7.637476854182629, 6.719659827344846, 6.682565973605358, 8.31770326054723, 6.660075897193883, 7.4526975787696506, 5.778246882509486, 5.771547001409103, 5.768382757038152, 5.766059470925308, 27.908283408904822, 12.326882844187399, 10.494128238996915, 4.856570987188879, 4.85640798206396, 4.8534187829692, 4.850364289207925, 4.8464776357606265, 4.8424636345594845, 8.081895971710596, 4.81915760635793, 8.022815875582111, 30.915331564842607, 9.542207946762627, 4.724693821053388, 3.922398804095681, 23.363541225686895, 13.174268690743215, 172.85665083558456, 110.89970689469183, 48.76037874232387, 38.27235486002209, 19.044546321834723, 18.76165648452987, 12.32693193095797, 147.91556268190567, 10.912886552584078, 32.43762716481075, 36.85723327735754, 75.56851648284461, 86.8267395803909, 16.781155330744053, 16.106593815553143, 19.015898171130125, 14.139222909812684, 12.168145489811272, 65.17099749149244, 40.829382912676515, 33.317247274819394, 53.25782721134357, 67.65729984324146, 133.67694647100785, 93.33139981571163, 75.77273967639714, 39.44585839161282, 38.404566834979505, 36.868173144036795, 45.07586646857303, 48.403271560244605, 25.255513925662758, 44.92915074215971, 42.35677797979128, 95.15936892385406, 60.62095023239078, 46.507329315010765, 54.05677830782672, 42.64327430548498, 70.98885045161269, 57.77289505250229, 43.173492930228726, 52.26055444776237, 46.00513275310544, 60.94776809853047, 49.611158059207554, 58.540434320481076, 44.43027355734366, 47.49550713355384, 51.96378509453682, 18.711308195343047, 11.604279904876934, 10.768314946129083, 10.768171041976942, 10.768086805400078, 10.767828245907204, 7.207464614017917, 16.06678042147411, 6.354352247092248, 6.323277139896737, 5.472572535126422, 5.471794516742889, 5.471745378739718, 5.471751228502001, 5.471735434143839, 5.471737189072523, 5.471734264191382, 5.471732509262698, 5.471739528977436, 5.471735434143839, 5.471725489547959, 5.471717884856992, 5.471709695189797, 5.471721394714361, 5.471720809738133, 5.471709110213569, 5.4717120350947095, 5.471700335570145, 5.471710865142254, 5.471700920546374, 18.40549432275411, 10.769161991707545, 19.285421415005164, 12.481521956240456, 18.597862585451853, 141.81033970877724, 42.74006668454178, 29.833640225218865, 9.778215770959957, 53.06062444625676, 35.18433354817184, 7.236254219089773, 16.02554778705178, 36.90075207777615, 7.237764042734809, 76.05086410792413, 21.206548865817744, 7.204235545238142, 34.429707194053094, 11.024498265563365, 21.31774582708766, 68.37439421795446, 35.186086136951594, 53.71578846224369, 27.61183265319621, 35.68210386019386, 44.480394362545894, 62.0109104919397, 44.30719460089447, 32.952574360554706, 35.393551466147244, 57.857115970403775, 23.712926313725294, 23.436716918094124, 26.438887458372307, 28.787700389256297, 31.563529587406624, 32.325688095439936, 26.002434354592328, 27.596099132562, 36.87252814471698, 26.90424774744601, 25.87236606020003, 29.35633706146982, 33.101549086643075, 26.389173838593244, 26.354016767277212, 7.034565277999532, 6.974329289780225, 6.97407886233254, 6.184358314015561, 5.311588800177704, 5.303591977545392, 4.4656949673888535, 4.444410560700649, 4.4263075457805305, 3.604996297325014, 3.603351904017093, 2.748376945906582, 2.748397172738895, 2.748329990760141, 2.7481845502039857, 2.748172510422847, 2.747840694054665, 2.747815651309897, 2.747749191718011, 2.747726797725093, 2.7476545590382613, 2.746675484036064, 2.746788176387522, 2.746547621560371, 2.745656436960486, 2.739709748260469, 2.73840583996315, 2.735842329763102, 2.7345071180348226, 2.7337435551150073, 6.845878791176631, 5.29980137285169, 7.731365203444407, 6.722955515298182, 9.671654433315707, 7.871453836087895, 25.94000319712826, 4.462157198099064, 25.13533164859327, 8.765707135389613, 8.795850894630902, 15.992035786679848, 7.858857335469363, 16.96995593307048, 12.360749182464788, 27.777668703712173, 21.438619910488132, 40.53884463274711, 5.875091974315043, 26.69555436498242, 20.933338228389974, 27.57745195928838, 27.039279521484332, 23.50410504532562, 32.23380938238061, 19.0366488987518, 29.941211595238016, 47.72202463480129, 11.321984798111723, 35.14916436733019, 44.926907572945, 28.69933995580538, 24.861078918809014, 18.803115671961052, 25.906137700741382, 23.43197038220258, 24.538320318773245, 16.228343942227436, 41.53878602043163, 20.83676955183285, 19.25176222358286, 21.02930009997771, 31.73789561319084, 26.567574381025725, 28.563232637988833, 25.67988228085334, 23.00910244677242, 30.510084511763207, 25.02715084392351, 25.65361051522625, 23.36293716670086, 22.18556215323689, 22.852650788378977, 7.997663917503599, 4.075147924232631, 3.973751288413582, 3.2957759781628573, 3.2953257455583542, 3.295271460210142, 3.2940139429170183, 2.510671051607655, 2.510602775190316, 2.5104147352212505, 2.510539535557862, 2.510436841110471, 2.5099381994067893, 2.5088908279719515, 2.5042902846216526, 2.4964555657319853, 7.221301730224398, 1.7259875360545542, 1.7258700110738885, 1.7258355930438363, 1.7258414692928696, 1.725810409119408, 1.7258216019747095, 1.7258046727810659, 1.7257856449270534, 1.7257678762692623, 1.7257633991271417, 1.7257530457359878, 1.725736956006492, 1.7257159694028015, 9.570063652753742, 5.579998777738224, 3.2966716864083594, 3.295958141882889, 7.857013938142191, 6.385184246347082, 4.081571224068779, 3.0879417243183456, 17.561550793059208, 4.500851666163596, 20.11995433574287, 13.641908005744135, 7.7278786086722, 4.868063784859984, 14.023454534403772, 21.70878238436179, 23.881899865429588, 15.28257912154854, 16.171386971757666, 14.50197372282454, 5.338458079617395, 4.737023431417679, 18.25430906694939, 24.804222482267996, 25.545957333100947, 11.028715436359631, 16.419430718808666, 19.275842914609225, 26.926246817455507, 14.570452730844645, 12.786291448646077, 9.558125353289162, 10.696079446796487, 11.163924009116215, 19.793731852267488, 13.028584306643166, 13.92222299320042, 12.950538765196871, 11.797106072093102, 13.603507557775751, 14.907119267601859, 14.423782674259325, 14.257941495113597, 11.516636623233659, 11.802346566945266, 12.133765893137136, 29.346612639491706, 3.2502570682326706, 3.2248203693841524, 6.348436488874745, 10.675710139838493, 2.477003575804756, 2.4728305928593213, 2.4718001961615386, 2.471463510123986, 2.469090491962168, 2.457509866499091, 2.4503256735720855, 2.4353234934302415, 1.7028303120913977, 1.7028323734344846, 1.7028087367004199, 1.7028004913280717, 1.7027566534317535, 1.7027464841391906, 1.7027275197827898, 1.7027260081311926, 1.7027071811976642, 1.7027203737934213, 1.7027157014157572, 1.7027125406896906, 1.7027129529583078, 1.702707730889154, 1.702690415607223, 1.7026883542641358, 1.702667740833265, 16.810882821383938, 3.6541107334708944, 3.250686377286268, 3.2466499926760686, 3.184429588399155, 8.960504485812523, 6.627991990500765, 3.137431240860037, 4.016680369053064, 3.974627870694154, 3.9558308953519137, 6.0292278922431475, 3.7893090044817024, 2.971459591171197, 12.543516747753428, 4.803221828711627, 2.9092562273304696, 15.881726103441597, 18.416244724369882, 20.320308982957396, 16.908184811390832, 25.701036690938455, 11.215116901944244, 25.09616057300485, 23.747547471729742, 7.093929736526412, 6.013299481940853, 12.04365039389783, 14.334868965106715, 5.083189598955058, 13.756093298495657, 28.68670800588905, 7.3095071953366215, 19.39748251221253, 17.792724170482476, 8.813694531769459, 11.574200668943329, 22.435290965595396, 11.257813638729294, 14.657021159666625, 12.14090620981957, 23.256063913094835, 14.834318652812982, 13.460540675131107, 13.759757541967206, 15.153180394114464, 16.38074263425384, 15.630656714204212, 13.174494416392566, 17.663838006849975, 14.406483871791446, 14.23822330673874, 12.177836682875766], \"Total\": [217.0, 242.0, 108.0, 34.0, 61.0, 187.0, 115.0, 56.0, 60.0, 213.0, 72.0, 141.0, 49.0, 92.0, 194.0, 41.0, 46.0, 29.0, 56.0, 118.0, 66.0, 49.0, 34.0, 122.0, 43.0, 43.0, 106.0, 94.0, 101.0, 57.0, 28.86936429893242, 9.254325730236758, 11.111442510327747, 11.088368790849481, 8.319388843455938, 7.385467772616361, 7.3787028532383285, 9.207674087846296, 7.377229918731265, 8.29338913038306, 6.44978124997184, 6.450013845566819, 6.450360259344854, 6.448417052161647, 31.3300156380704, 13.873686502085643, 11.905458252908087, 5.517496403261918, 5.517558334712842, 5.516714060902358, 5.516392284727104, 5.5153727171243805, 5.514289929370202, 9.21241536794737, 5.51120288437161, 9.22161219894684, 35.564547471882264, 11.063355977365129, 5.502833292705115, 4.5830751107901, 27.595668533784362, 15.48673657864007, 217.29388337518182, 141.54178923158923, 60.28213511287842, 46.864432769553005, 22.76902800570812, 22.696910773337255, 14.634818887195935, 213.1878994511597, 12.88243721697747, 42.3871781686666, 49.18772876527628, 108.94127227987407, 129.43534262915998, 21.056605348440932, 20.192784400055924, 24.527896319042508, 17.405654344729644, 14.692815584736149, 106.75080845537548, 61.3221980083539, 48.25878019266329, 86.43868600265301, 115.78099343503692, 267.5619525338643, 173.01240376848708, 133.95618589024784, 60.83554890085707, 58.862965018383015, 56.01647736401558, 73.03104147302051, 82.7831058525047, 35.96567207222562, 77.60788746756637, 71.85560704648145, 216.92284064448157, 119.08598443645417, 81.69584102427318, 105.0747884747064, 72.54871078877662, 176.58133337466427, 125.3416489305603, 75.7554849031819, 117.46086388619807, 90.1104493348033, 187.1499561784632, 118.38814684799183, 242.69184108744747, 85.93264391457052, 122.8865299157726, 194.76843046595977, 19.38653124495712, 12.318064693028564, 11.44066242305766, 11.440664569684836, 11.440660484992318, 11.440594324451597, 7.907179513685945, 17.669848215292376, 7.0261612533367614, 7.024755663057531, 6.14326193509106, 6.14326335060468, 6.143255247490254, 6.143263624204511, 6.143257275280947, 6.1432605825518, 6.143261444988683, 6.143260673789194, 6.143269223466139, 6.143268839028044, 6.143264133994525, 6.14325882924615, 6.1432506664432385, 6.143265119558939, 6.1432649412625, 6.143254411159698, 6.143262908498097, 6.143251736243002, 6.143265463060616, 6.14325445596246, 20.921873694434296, 12.372572820019457, 22.98988340180166, 14.999756419753073, 23.945367779333342, 242.69184108744747, 66.68314541286135, 46.74597247928948, 12.26973629866635, 94.31652058937728, 60.29040658300648, 8.693262115843453, 23.85867841396606, 69.3817260169282, 8.766833172935181, 187.1499561784632, 36.00861187642038, 8.843038401050928, 71.64439905172112, 15.647059318305606, 38.645463779362224, 194.76843046595977, 81.74119316886326, 149.83834177080053, 61.74805926509228, 90.64325558911581, 127.86473194264514, 216.92284064448157, 129.4277575338085, 92.31218824925323, 105.69241260498588, 267.5619525338643, 50.44955997000816, 49.83917742630391, 62.979110785771816, 76.45793875406812, 93.76642284094565, 102.55415065680397, 63.22271082768595, 74.18335004527066, 176.58133337466427, 71.85656953417721, 64.40052422735278, 101.48273218006439, 173.01240376848708, 74.95685235313637, 101.2947433937059, 7.720754919719411, 7.714035356421967, 7.714020468124113, 6.860835892697867, 5.9994743740021015, 6.000528036785801, 5.142214053430137, 5.139790602192098, 5.143925024376416, 4.282951304236352, 4.282340686593514, 3.423761197169646, 3.4238196388043676, 3.423820794754699, 3.42376147982468, 3.423805840919495, 3.4238333479299383, 3.4238030914196447, 3.423763182025104, 3.423849983353202, 3.4237650662183916, 3.42343745195985, 3.4236168422301145, 3.42344391483594, 3.423247862904036, 3.4226948972872036, 3.424083746713506, 3.422809974467489, 3.4216671893856407, 3.4212734303606447, 8.656449429905635, 6.880619713650474, 10.347651589586919, 9.24550821172285, 13.87175784881634, 11.04197308315416, 43.70724852792301, 5.9181946960112555, 42.205225414885426, 13.041789773234493, 13.140265073845901, 26.363870736733638, 11.717327028870995, 29.68365324853834, 20.622323598026167, 56.31939666724131, 41.11652300193177, 92.31218824925323, 8.737636557396131, 58.09164960692576, 43.29200275670663, 65.78354030661605, 66.79673148332031, 57.251802387631294, 91.37084907427644, 42.902451584725256, 85.06226727448511, 187.1499561784632, 20.893756607549353, 127.86473194264514, 194.76843046595977, 105.69241260498588, 83.40505705504584, 52.045567089991906, 95.0906815825042, 79.49035265375859, 90.64325558911581, 41.58111823106899, 267.5619525338643, 70.46043256126266, 60.055855355712936, 72.35371436076119, 176.58133337466427, 122.8865299157726, 149.83834177080053, 117.46086388619807, 93.76642284094565, 216.92284064448157, 125.3416489305603, 213.1878994511597, 129.4277575338085, 119.08598443645417, 242.69184108744747, 8.695740516779436, 4.771081711790762, 4.7821065099289175, 3.9859824303788653, 3.9860568057569115, 3.986028433100548, 3.985988160978218, 3.2011549614766546, 3.2011490780797756, 3.200969711284806, 3.201190641291444, 3.201153196277927, 3.2012203955594027, 3.200969957760062, 3.2005570732193727, 3.20270890046255, 9.677679545267834, 2.416194287883865, 2.416238290890851, 2.416219236406054, 2.416234206472612, 2.416231335776094, 2.416254538661363, 2.416258220858342, 2.4162642946286153, 2.4162396078077544, 2.41624392247768, 2.416252808503639, 2.416258477999715, 2.416257295308997, 13.64931948368247, 8.143932779400101, 4.866716100510574, 4.91701531967586, 13.190774353842068, 10.817274317769533, 6.560558737404514, 4.891879077813769, 41.9744068880701, 8.131271937950899, 56.18258138385011, 34.298060019500696, 16.57734652510775, 9.141679570664879, 47.50512409948831, 101.62759572846794, 122.8865299157726, 60.055855355712936, 66.50016305699349, 56.01519997188767, 11.04587709816041, 9.262091303562688, 101.2947433937059, 176.58133337466427, 194.76843046595977, 43.690001622819295, 91.93548949668242, 125.3416489305603, 267.5619525338643, 82.69824248874423, 66.28862924470535, 36.37160387722247, 47.0309654995117, 56.35552161810499, 216.92284064448157, 83.40505705504584, 105.10083609599918, 85.56637422068862, 65.87056131128293, 102.55415065680397, 149.83834177080053, 133.95618589024784, 129.4277575338085, 69.98377311047128, 91.37084907427644, 119.08598443645417, 34.4472561024669, 3.94400409230306, 3.947140815035459, 7.825462016004441, 13.346513796106162, 3.169596748073894, 3.1696033479055155, 3.1700281172973117, 3.170100497334932, 3.1703319164090495, 3.172476058823473, 3.1739619821776106, 3.1699048856012637, 2.3951445743505113, 2.395193528483108, 2.3952038391327255, 2.39520504073713, 2.3951684701610616, 2.395217682356903, 2.3952155321268265, 2.3952354780952825, 2.395209492617349, 2.3952321220880046, 2.3952280609119763, 2.3952289095550396, 2.395231502038306, 2.3952303538227757, 2.3952158618694295, 2.3952336113001467, 2.395236367432423, 29.419136778913927, 5.507478951567018, 4.876008121288654, 4.876385116535443, 4.831622695781373, 15.533452821120953, 11.408501971261515, 4.899466428576151, 6.586780500721718, 6.52148479304669, 6.519936373426457, 11.52487636197179, 6.567173300792444, 4.8641938438076595, 31.194753238917173, 9.2235781216905, 4.839023955436721, 49.682339474887996, 61.3221980083539, 72.02081158915153, 56.01647736401558, 115.78099343503692, 33.511628944829155, 118.38814684799183, 108.94127227987407, 17.143572956347807, 13.261097755028334, 43.21605562642297, 61.59783202933639, 10.646202255288276, 57.72682158814037, 217.29388337518182, 20.365380621594547, 117.46086388619807, 106.75080845537548, 28.794733829915472, 48.18244263066822, 173.01240376848708, 46.632360296738284, 77.6518462289529, 55.4857543367374, 213.1878994511597, 85.06226727448511, 71.85656953417721, 81.63114854948272, 105.0747884747064, 129.4277575338085, 133.95618589024784, 77.2747292158627, 242.69184108744747, 127.86473194264514, 141.54178923158923, 176.58133337466427], \"Category\": [\"Default\", \"Default\", \"Default\", \"Default\", \"Default\", \"Default\", \"Default\", \"Default\", \"Default\", \"Default\", \"Default\", \"Default\", \"Default\", \"Default\", \"Default\", \"Default\", \"Default\", \"Default\", \"Default\", \"Default\", \"Default\", \"Default\", \"Default\", \"Default\", \"Default\", \"Default\", \"Default\", \"Default\", \"Default\", \"Default\", \"Topic1\", \"Topic1\", \"Topic1\", \"Topic1\", \"Topic1\", \"Topic1\", \"Topic1\", \"Topic1\", \"Topic1\", \"Topic1\", \"Topic1\", \"Topic1\", \"Topic1\", \"Topic1\", \"Topic1\", \"Topic1\", \"Topic1\", \"Topic1\", \"Topic1\", \"Topic1\", \"Topic1\", \"Topic1\", \"Topic1\", \"Topic1\", \"Topic1\", \"Topic1\", \"Topic1\", \"Topic1\", \"Topic1\", \"Topic1\", \"Topic1\", \"Topic1\", \"Topic1\", \"Topic1\", \"Topic1\", \"Topic1\", \"Topic1\", \"Topic1\", \"Topic1\", \"Topic1\", \"Topic1\", \"Topic1\", \"Topic1\", \"Topic1\", \"Topic1\", \"Topic1\", \"Topic1\", \"Topic1\", \"Topic1\", \"Topic1\", \"Topic1\", \"Topic1\", \"Topic1\", \"Topic1\", \"Topic1\", \"Topic1\", \"Topic1\", \"Topic1\", \"Topic1\", \"Topic1\", \"Topic1\", \"Topic1\", \"Topic1\", \"Topic1\", \"Topic1\", \"Topic1\", \"Topic1\", \"Topic1\", \"Topic1\", \"Topic1\", \"Topic1\", \"Topic1\", \"Topic1\", \"Topic1\", \"Topic1\", \"Topic1\", \"Topic1\", \"Topic1\", \"Topic1\", \"Topic1\", \"Topic1\", \"Topic1\", \"Topic2\", \"Topic2\", \"Topic2\", \"Topic2\", \"Topic2\", \"Topic2\", \"Topic2\", \"Topic2\", \"Topic2\", \"Topic2\", \"Topic2\", \"Topic2\", \"Topic2\", \"Topic2\", \"Topic2\", \"Topic2\", \"Topic2\", \"Topic2\", \"Topic2\", \"Topic2\", \"Topic2\", \"Topic2\", \"Topic2\", \"Topic2\", \"Topic2\", \"Topic2\", \"Topic2\", \"Topic2\", \"Topic2\", \"Topic2\", \"Topic2\", \"Topic2\", \"Topic2\", \"Topic2\", \"Topic2\", \"Topic2\", \"Topic2\", \"Topic2\", \"Topic2\", \"Topic2\", \"Topic2\", \"Topic2\", \"Topic2\", \"Topic2\", \"Topic2\", \"Topic2\", \"Topic2\", \"Topic2\", \"Topic2\", \"Topic2\", \"Topic2\", \"Topic2\", \"Topic2\", \"Topic2\", \"Topic2\", \"Topic2\", \"Topic2\", \"Topic2\", \"Topic2\", \"Topic2\", \"Topic2\", \"Topic2\", \"Topic2\", \"Topic2\", \"Topic2\", \"Topic2\", \"Topic2\", \"Topic2\", \"Topic2\", \"Topic2\", \"Topic2\", \"Topic2\", \"Topic2\", \"Topic2\", \"Topic2\", \"Topic2\", \"Topic2\", \"Topic3\", \"Topic3\", \"Topic3\", \"Topic3\", \"Topic3\", \"Topic3\", \"Topic3\", \"Topic3\", \"Topic3\", \"Topic3\", \"Topic3\", \"Topic3\", \"Topic3\", \"Topic3\", \"Topic3\", \"Topic3\", \"Topic3\", \"Topic3\", \"Topic3\", \"Topic3\", \"Topic3\", \"Topic3\", \"Topic3\", \"Topic3\", \"Topic3\", \"Topic3\", \"Topic3\", \"Topic3\", \"Topic3\", \"Topic3\", \"Topic3\", \"Topic3\", \"Topic3\", \"Topic3\", \"Topic3\", \"Topic3\", \"Topic3\", \"Topic3\", \"Topic3\", \"Topic3\", \"Topic3\", \"Topic3\", \"Topic3\", \"Topic3\", \"Topic3\", \"Topic3\", \"Topic3\", \"Topic3\", \"Topic3\", \"Topic3\", \"Topic3\", \"Topic3\", \"Topic3\", \"Topic3\", \"Topic3\", \"Topic3\", \"Topic3\", \"Topic3\", \"Topic3\", \"Topic3\", \"Topic3\", \"Topic3\", \"Topic3\", \"Topic3\", \"Topic3\", \"Topic3\", \"Topic3\", \"Topic3\", \"Topic3\", \"Topic3\", \"Topic3\", \"Topic3\", \"Topic3\", \"Topic3\", \"Topic3\", \"Topic3\", \"Topic3\", \"Topic3\", \"Topic3\", \"Topic3\", \"Topic3\", \"Topic3\", \"Topic3\", \"Topic4\", \"Topic4\", \"Topic4\", \"Topic4\", \"Topic4\", \"Topic4\", \"Topic4\", \"Topic4\", \"Topic4\", \"Topic4\", \"Topic4\", \"Topic4\", \"Topic4\", \"Topic4\", \"Topic4\", \"Topic4\", \"Topic4\", \"Topic4\", \"Topic4\", \"Topic4\", \"Topic4\", \"Topic4\", \"Topic4\", \"Topic4\", \"Topic4\", \"Topic4\", \"Topic4\", \"Topic4\", \"Topic4\", \"Topic4\", \"Topic4\", \"Topic4\", \"Topic4\", \"Topic4\", \"Topic4\", \"Topic4\", \"Topic4\", \"Topic4\", \"Topic4\", \"Topic4\", \"Topic4\", \"Topic4\", \"Topic4\", \"Topic4\", \"Topic4\", \"Topic4\", \"Topic4\", \"Topic4\", \"Topic4\", \"Topic4\", \"Topic4\", \"Topic4\", \"Topic4\", \"Topic4\", \"Topic4\", \"Topic4\", \"Topic4\", \"Topic4\", \"Topic4\", \"Topic4\", \"Topic4\", \"Topic4\", \"Topic4\", \"Topic4\", \"Topic4\", \"Topic4\", \"Topic4\", \"Topic4\", \"Topic4\", \"Topic4\", \"Topic4\", \"Topic4\", \"Topic4\", \"Topic4\", \"Topic4\", \"Topic4\", \"Topic5\", \"Topic5\", \"Topic5\", \"Topic5\", \"Topic5\", \"Topic5\", \"Topic5\", \"Topic5\", \"Topic5\", \"Topic5\", \"Topic5\", \"Topic5\", \"Topic5\", \"Topic5\", \"Topic5\", \"Topic5\", \"Topic5\", \"Topic5\", \"Topic5\", \"Topic5\", \"Topic5\", \"Topic5\", \"Topic5\", \"Topic5\", \"Topic5\", \"Topic5\", \"Topic5\", \"Topic5\", \"Topic5\", \"Topic5\", \"Topic5\", \"Topic5\", \"Topic5\", \"Topic5\", \"Topic5\", \"Topic5\", \"Topic5\", \"Topic5\", \"Topic5\", \"Topic5\", \"Topic5\", \"Topic5\", \"Topic5\", \"Topic5\", \"Topic5\", \"Topic5\", \"Topic5\", \"Topic5\", \"Topic5\", \"Topic5\", \"Topic5\", \"Topic5\", \"Topic5\", \"Topic5\", \"Topic5\", \"Topic5\", \"Topic5\", \"Topic5\", \"Topic5\", \"Topic5\", \"Topic5\", \"Topic5\", \"Topic5\", \"Topic5\", \"Topic5\", \"Topic5\", \"Topic5\", \"Topic5\", \"Topic5\", \"Topic5\", \"Topic5\", \"Topic5\", \"Topic5\", \"Topic5\", \"Topic5\", \"Topic5\", \"Topic5\", \"Topic5\", \"Topic5\", \"Topic5\", \"Topic5\", \"Topic5\", \"Topic5\"], \"logprob\": [30.0, 29.0, 28.0, 27.0, 26.0, 25.0, 24.0, 23.0, 22.0, 21.0, 20.0, 19.0, 18.0, 17.0, 16.0, 15.0, 14.0, 13.0, 12.0, 11.0, 10.0, 9.0, 8.0, 7.0, 6.0, 5.0, 4.0, 3.0, 2.0, 1.0, -6.3405, -7.5246, -7.3432, -7.3515, -7.6417, -7.7698, -7.7753, -7.5564, -7.7787, -7.6662, -7.9207, -7.9219, -7.9224, -7.9228, -6.3459, -7.163, -7.324, -8.0945, -8.0945, -8.0951, -8.0957, -8.0965, -8.0974, -7.5852, -8.1022, -7.5925, -6.2435, -7.4191, -8.122, -8.3081, -6.5236, -7.0965, -4.5223, -4.9662, -5.7879, -6.0301, -6.728, -6.743, -7.163, -4.6781, -7.2848, -6.1955, -6.0677, -5.3498, -5.2109, -6.8545, -6.8956, -6.7295, -7.0258, -7.176, -5.4978, -5.9654, -6.1687, -5.6996, -5.4603, -4.7794, -5.1386, -5.3471, -5.9999, -6.0266, -6.0674, -5.8664, -5.7952, -6.4457, -5.8697, -5.9287, -5.1192, -5.5702, -5.8352, -5.6848, -5.9219, -5.4123, -5.6183, -5.9096, -5.7185, -5.846, -5.5648, -5.7706, -5.6051, -5.8809, -5.8142, -5.7242, -6.2862, -6.7639, -6.8387, -6.8387, -6.8387, -6.8387, -7.2402, -6.4386, -7.3662, -7.3711, -7.5156, -7.5157, -7.5157, -7.5157, -7.5157, -7.5157, -7.5157, -7.5157, -7.5157, -7.5157, -7.5157, -7.5157, -7.5157, -7.5157, -7.5157, -7.5157, -7.5157, -7.5157, -7.5157, -7.5157, -6.3027, -6.8386, -6.256, -6.6911, -6.2923, -4.2608, -5.4602, -5.8197, -6.9352, -5.2439, -5.6547, -7.2362, -6.4411, -5.6071, -7.236, -4.8839, -6.161, -7.2406, -5.6764, -6.8152, -6.1558, -4.9903, -5.6547, -5.2316, -5.8971, -5.6407, -5.4203, -5.088, -5.4242, -5.7202, -5.6488, -5.1573, -6.0493, -6.061, -5.9405, -5.8554, -5.7633, -5.7394, -5.9571, -5.8976, -5.6078, -5.923, -5.9621, -5.8358, -5.7157, -5.9424, -5.9437, -7.07, -7.0786, -7.0786, -7.1988, -7.3509, -7.3524, -7.5244, -7.5292, -7.5333, -7.7385, -7.739, -8.0098, -8.0098, -8.0098, -8.0099, -8.0099, -8.01, -8.01, -8.0101, -8.0101, -8.0101, -8.0104, -8.0104, -8.0105, -8.0108, -8.013, -8.0135, -8.0144, -8.0149, -8.0152, -7.0972, -7.3532, -6.9755, -7.1153, -6.7516, -6.9576, -5.765, -7.5252, -5.7966, -6.85, -6.8466, -6.2487, -6.9592, -6.1894, -6.5063, -5.6966, -5.9556, -5.3186, -7.2501, -5.7363, -5.9795, -5.7038, -5.7235, -5.8637, -5.5478, -6.0745, -5.6216, -5.1554, -6.5941, -5.4612, -5.2158, -5.664, -5.8075, -6.0868, -5.7664, -5.8667, -5.8206, -6.2341, -5.2942, -5.9841, -6.0632, -5.9749, -5.5633, -5.7411, -5.6687, -5.7751, -5.8849, -5.6028, -5.8009, -5.7761, -5.8697, -5.9214, -5.8918, -6.3987, -7.073, -7.0982, -7.2852, -7.2854, -7.2854, -7.2858, -7.5573, -7.5574, -7.5574, -7.5574, -7.5574, -7.5576, -7.558, -7.5599, -7.563, -6.5009, -7.9321, -7.9322, -7.9322, -7.9322, -7.9322, -7.9322, -7.9322, -7.9322, -7.9322, -7.9322, -7.9322, -7.9322, -7.9322, -6.2192, -6.7587, -7.285, -7.2852, -6.4165, -6.6239, -7.0714, -7.3504, -5.6122, -6.9736, -5.4762, -5.8647, -6.4331, -6.8952, -5.8372, -5.4002, -5.3048, -5.7512, -5.6946, -5.8036, -6.803, -6.9225, -5.5735, -5.2669, -5.2374, -6.0774, -5.6794, -5.519, -5.1848, -5.7989, -5.9295, -6.2205, -6.108, -6.0652, -5.4925, -5.9107, -5.8444, -5.9168, -6.01, -5.8676, -5.7761, -5.809, -5.8206, -6.0341, -6.0096, -5.9819, -5.0808, -7.2812, -7.2891, -6.6117, -6.092, -7.5529, -7.5546, -7.555, -7.5551, -7.5561, -7.5608, -7.5637, -7.5699, -7.9277, -7.9277, -7.9277, -7.9277, -7.9277, -7.9277, -7.9277, -7.9277, -7.9277, -7.9277, -7.9277, -7.9277, -7.9277, -7.9277, -7.9277, -7.9277, -7.9278, -5.6379, -7.1641, -7.2811, -7.2823, -7.3017, -6.2671, -6.5686, -7.3165, -7.0695, -7.08, -7.0848, -6.6633, -7.1278, -7.3709, -5.9307, -6.8907, -7.3921, -5.6948, -5.5467, -5.4483, -5.6322, -5.2134, -6.0427, -5.2372, -5.2925, -6.5007, -6.666, -5.9714, -5.7973, -6.834, -5.8385, -5.1035, -6.4708, -5.4948, -5.5812, -6.2836, -6.0112, -5.3493, -6.0389, -5.775, -5.9634, -5.3134, -5.763, -5.8602, -5.8382, -5.7417, -5.6638, -5.7107, -5.8817, -5.5884, -5.7923, -5.804, -5.9603], \"loglift\": [30.0, 29.0, 28.0, 27.0, 26.0, 25.0, 24.0, 23.0, 22.0, 21.0, 20.0, 19.0, 18.0, 17.0, 16.0, 15.0, 14.0, 13.0, 12.0, 11.0, 10.0, 9.0, 8.0, 7.0, 6.0, 5.0, 4.0, 3.0, 2.0, 1.0, 0.9833, 0.9369, 0.9354, 0.9291, 0.9263, 0.9173, 0.9127, 0.9101, 0.9095, 0.9049, 0.9018, 0.9006, 0.9, 0.8999, 0.8961, 0.8936, 0.8856, 0.8842, 0.8841, 0.8837, 0.8831, 0.8825, 0.8819, 0.8809, 0.8776, 0.8725, 0.8717, 0.8639, 0.8593, 0.8561, 0.8453, 0.8501, 0.783, 0.7678, 0.7997, 0.8092, 0.8332, 0.8214, 0.8402, 0.6462, 0.8459, 0.7442, 0.7232, 0.646, 0.6125, 0.7848, 0.7857, 0.7572, 0.8039, 0.8232, 0.5183, 0.605, 0.6413, 0.5275, 0.4745, 0.3179, 0.3946, 0.442, 0.5785, 0.5847, 0.5935, 0.5292, 0.4751, 0.6583, 0.4652, 0.4832, 0.1878, 0.3366, 0.4484, 0.3471, 0.4804, 0.1005, 0.2373, 0.4495, 0.2019, 0.3395, -0.1101, 0.142, -0.4103, 0.3521, 0.0611, -0.3095, 1.4358, 1.4116, 1.4107, 1.4107, 1.4107, 1.4107, 1.3786, 1.3762, 1.3708, 1.3661, 1.3557, 1.3555, 1.3555, 1.3555, 1.3555, 1.3555, 1.3555, 1.3555, 1.3555, 1.3555, 1.3555, 1.3555, 1.3555, 1.3555, 1.3555, 1.3555, 1.3555, 1.3555, 1.3555, 1.3555, 1.3431, 1.3325, 1.2956, 1.2875, 1.2185, 0.934, 1.0264, 1.0222, 1.2443, 0.896, 0.9327, 1.2878, 1.0733, 0.8399, 1.2796, 0.5707, 0.9418, 1.2663, 0.7385, 1.1211, 0.8764, 0.4244, 0.6283, 0.4454, 0.6664, 0.539, 0.4153, 0.219, 0.3993, 0.4412, 0.3773, -0.0601, 0.7163, 0.7168, 0.6033, 0.4945, 0.3825, 0.3167, 0.5828, 0.4824, -0.0951, 0.4889, 0.5593, 0.2309, -0.1825, 0.4273, 0.1248, 1.5727, 1.5649, 1.5649, 1.5619, 1.544, 1.5423, 1.5247, 1.5204, 1.5155, 1.4934, 1.4931, 1.446, 1.446, 1.446, 1.4459, 1.4459, 1.4458, 1.4458, 1.4458, 1.4457, 1.4457, 1.4455, 1.4455, 1.4454, 1.4452, 1.4432, 1.4423, 1.4417, 1.4416, 1.4414, 1.4311, 1.4047, 1.3743, 1.3471, 1.3051, 1.3273, 1.144, 1.3833, 1.1475, 1.2684, 1.2643, 1.1658, 1.2663, 1.1066, 1.1539, 0.9589, 1.0145, 0.8428, 1.2688, 0.8882, 0.9391, 0.7964, 0.7614, 0.7754, 0.6238, 0.8532, 0.6216, 0.2992, 1.053, 0.3744, 0.199, 0.3621, 0.4553, 0.6476, 0.3654, 0.4442, 0.359, 0.7248, -0.197, 0.4474, 0.5281, 0.4301, -0.0505, 0.1342, 0.0083, 0.1453, 0.2608, -0.2958, 0.0547, -0.4518, -0.0462, -0.0147, -0.697, 2.125, 2.051, 2.0235, 2.0185, 2.0184, 2.0184, 2.018, 1.9657, 1.9657, 1.9657, 1.9657, 1.9656, 1.9654, 1.9651, 1.9634, 1.9596, 1.9159, 1.8723, 1.8722, 1.8722, 1.8722, 1.8722, 1.8722, 1.8722, 1.8721, 1.8721, 1.8721, 1.8721, 1.8721, 1.8721, 1.8536, 1.8306, 1.8192, 1.8087, 1.6906, 1.6815, 1.7341, 1.7486, 1.3373, 1.6172, 1.1818, 1.2867, 1.4455, 1.5785, 0.9886, 0.6651, 0.5705, 0.8401, 0.7947, 0.8573, 1.4816, 1.5382, 0.495, 0.2459, 0.1773, 0.8321, 0.4861, 0.3365, -0.0876, 0.4725, 0.563, 0.8723, 0.7277, 0.5897, -0.1855, 0.3521, 0.1872, 0.3205, 0.4888, 0.1886, -0.099, -0.02, 0.0029, 0.4042, 0.162, -0.0752, 2.0664, 2.0332, 2.0245, 2.0174, 2.0033, 1.9801, 1.9784, 1.9778, 1.9777, 1.9766, 1.9713, 1.9679, 1.963, 1.8855, 1.8854, 1.8854, 1.8854, 1.8854, 1.8854, 1.8854, 1.8854, 1.8854, 1.8854, 1.8854, 1.8854, 1.8854, 1.8854, 1.8854, 1.8853, 1.8853, 1.667, 1.8164, 1.8212, 1.8198, 1.8097, 1.6764, 1.6836, 1.7809, 1.732, 1.7314, 1.7269, 1.5787, 1.6767, 1.7338, 1.3156, 1.5741, 1.7178, 1.0861, 1.0237, 0.9613, 1.0288, 0.7214, 1.132, 0.6754, 0.7033, 1.3442, 1.4358, 0.9489, 0.7687, 1.4874, 0.7924, 0.2018, 1.202, 0.4257, 0.4349, 1.0427, 0.8004, 0.1839, 0.8054, 0.5593, 0.7071, 0.011, 0.4802, 0.5517, 0.4462, 0.2902, 0.1596, 0.0783, 0.4575, -0.3937, 0.0433, -0.07, -0.4475]}, \"token.table\": {\"Topic\": [1, 2, 3, 4, 5, 3, 1, 2, 3, 4, 5, 2, 5, 3, 1, 2, 3, 4, 5, 2, 4, 1, 2, 3, 4, 5, 1, 3, 4, 3, 1, 3, 1, 2, 3, 5, 2, 3, 2, 4, 5, 1, 3, 4, 1, 3, 4, 5, 1, 2, 3, 4, 5, 1, 3, 4, 1, 2, 3, 4, 5, 3, 4, 5, 1, 4, 5, 1, 1, 2, 3, 4, 5, 3, 2, 4, 1, 2, 3, 4, 2, 1, 2, 3, 4, 5, 1, 2, 3, 4, 5, 2, 5, 5, 1, 2, 3, 4, 5, 1, 2, 3, 1, 2, 3, 4, 1, 2, 3, 4, 1, 3, 4, 2, 5, 1, 3, 4, 5, 1, 2, 3, 4, 5, 1, 2, 3, 5, 1, 2, 3, 4, 5, 1, 3, 1, 2, 3, 4, 5, 4, 5, 5, 1, 2, 3, 4, 1, 3, 4, 5, 2, 1, 2, 3, 5, 1, 2, 3, 5, 2, 1, 2, 3, 5, 1, 2, 3, 5, 1, 2, 3, 4, 5, 1, 2, 3, 4, 5, 1, 2, 3, 4, 5, 5, 1, 3, 5, 1, 2, 4, 5, 2, 1, 2, 3, 4, 5, 1, 2, 5, 1, 2, 5, 1, 1, 2, 3, 4, 2, 1, 2, 3, 4, 5, 1, 2, 3, 4, 5, 1, 2, 3, 4, 5, 1, 2, 3, 4, 5, 1, 2, 3, 4, 5, 2, 5, 1, 2, 3, 1, 2, 3, 4, 5, 1, 2, 3, 4, 5, 3, 2, 3, 5, 1, 2, 3, 4, 5, 5, 1, 2, 3, 4, 5, 2, 1, 2, 3, 4, 5, 1, 1, 1, 2, 3, 4, 5, 1, 2, 3, 4, 5, 1, 2, 3, 4, 5, 2, 1, 2, 3, 4, 5, 1, 2, 3, 4, 5, 2, 1, 2, 3, 1, 2, 3, 4, 5, 5, 1, 2, 3, 1, 2, 3, 5, 1, 2, 3, 4, 5, 1, 2, 3, 4, 5, 1, 2, 4, 5, 1, 2, 3, 1, 3, 5, 1, 2, 4, 5, 2, 3, 5, 2, 2, 1, 2, 4, 5, 2, 1, 3, 1, 2, 3, 4, 5, 1, 2, 3, 4, 1, 2, 3, 4, 5, 4, 1, 4, 1, 2, 3, 4, 5, 4, 3, 1, 2, 3, 4, 5, 1, 2, 3, 4, 5, 1, 2, 3, 4, 5, 2, 3, 4, 1, 1, 1, 3, 4, 5, 1, 2, 3, 4, 5, 1, 2, 3, 4, 5, 3, 1, 2, 3, 4, 5, 2, 3, 5, 5, 4, 4, 4, 1, 3, 4, 5, 5, 1, 2, 3, 4, 5, 4, 2, 4, 3, 1, 3, 5, 1, 2, 3, 4, 1, 2, 3, 4, 5, 2, 1, 2, 3, 4, 5, 3, 4, 1, 2, 3, 4, 5, 4, 1, 2, 3, 4, 5, 1, 2, 4, 1, 2, 3, 4, 5, 1, 2, 3, 4, 5, 1, 2, 4, 1, 2, 3, 4, 5, 1, 3, 4, 5, 1, 3, 4, 5, 4, 3, 5, 2, 4, 3, 1, 1, 5, 2, 4, 4, 1, 2, 3, 4, 5, 3, 1, 2, 3, 4, 5, 1, 2, 4, 4, 2, 4, 5, 5, 1, 2, 3, 4, 1, 5, 3, 4, 5, 1, 2, 3, 4, 5, 1, 2, 3, 4, 5, 1, 2, 4, 1, 3, 4, 5, 1, 1, 5, 3, 1, 1, 2, 3, 4, 5, 1, 2, 3, 4, 5, 1, 2, 3, 4, 5, 1, 2, 3, 4, 5, 1, 3, 5, 5, 1, 3, 4, 5, 2, 1, 2, 3, 4, 5, 1, 5, 5, 1, 2, 3, 5, 3, 4, 3, 1, 2, 3, 4, 5, 4, 2, 3, 3, 1, 5, 1, 5, 2, 3, 2, 4, 1, 1, 2, 3, 4, 5, 5, 3, 1, 2, 3, 4, 5, 1, 2, 3, 4, 5, 2, 3, 2, 3, 4, 3, 1, 2, 3, 2, 5, 1, 5, 1, 5, 1, 2, 4, 5, 1, 3, 3, 4, 5, 4, 5, 1, 1, 2, 3, 4, 5, 2, 1, 2, 3, 4, 1, 2, 4, 5, 5, 1, 2, 3, 4, 5, 4, 1, 2, 3, 4, 5, 1, 2, 3, 4, 5, 4, 1, 3, 1, 2, 3, 4, 5, 1, 2, 3, 1, 2, 3, 5, 1, 3, 5, 5, 4, 1, 2, 3, 1, 2, 3, 2, 1, 1, 2, 3, 4, 5, 1, 1, 2, 3, 4, 5, 3, 5, 1, 2, 3, 4, 5, 5, 1, 2, 3, 4, 5, 1, 2, 4, 4, 1, 2, 3, 4, 1, 1, 5, 1, 2, 4, 1, 2, 3, 5, 1, 2, 3, 4, 5, 1, 1, 2, 3, 4, 5, 2, 1, 2, 3, 4, 5, 1, 2, 3, 3, 2, 4, 5, 3, 1, 2, 3, 4, 5, 1, 2, 3, 4, 5, 1, 3, 5, 2, 1, 2, 3, 4, 5, 1, 2, 3, 4, 5, 4, 1, 1, 2, 3, 4, 5, 1, 2, 3, 4, 5, 1, 2, 3, 4, 5, 1, 2, 3, 5, 1, 2, 3, 4, 5, 5, 1, 2, 3, 5, 5, 1, 1, 1, 2, 3, 4, 1, 5, 5, 1, 2, 3, 4, 5, 4, 3, 1, 2, 3, 5, 1, 2, 3, 4, 5, 1, 2, 1, 2, 3, 4, 5, 1, 5, 1, 2, 3, 4, 5, 4, 3, 3, 5, 3, 4, 5, 4, 2, 2, 1, 2, 3, 4, 5, 2, 1, 2, 3, 4, 5, 1, 3, 1, 2, 3, 4, 5, 2, 3, 1, 2, 3, 4, 5, 1, 2, 3, 4, 5, 1, 1, 1, 2, 3, 4, 5, 5, 2, 4, 1, 2, 3, 4, 5], \"Freq\": [0.3424302368620769, 0.16220379640835222, 0.14418115236297976, 0.14418115236297976, 0.21627172854446963, 0.8332600013445256, 0.31940082325876745, 0.2839118428966822, 0.1419559214483411, 0.195189391991469, 0.05323347054312791, 0.8139008521146563, 0.6309337573769638, 0.8745290069371761, 0.2188901040970112, 0.2188901040970112, 0.5107435762263595, 0.02432112267744569, 0.02432112267744569, 0.805221320457198, 0.11503161720817114, 0.44192643227383627, 0.049102936919315145, 0.09820587383863029, 0.09820587383863029, 0.343720558435206, 0.12279079740558248, 0.12279079740558248, 0.7367447844334948, 0.8765023147046418, 0.22889484895169548, 0.6866845468550865, 0.8073476098681172, 0.047491035874595126, 0.09498207174919025, 0.047491035874595126, 0.8150134409234975, 0.16300268818469948, 0.8139000344867496, 0.7526288510858509, 0.834993557665029, 0.21877817796391424, 0.21877817796391424, 0.5469454449097856, 0.12298198948835089, 0.12298198948835089, 0.6149099474417544, 0.12298198948835089, 0.5845055344509348, 0.1530847828323877, 0.055667193757231885, 0.055667193757231885, 0.13916798439307973, 0.1524260417483313, 0.1524260417483313, 0.6097041669933252, 0.6455672083139633, 0.05096583223531289, 0.13590888596083436, 0.05096583223531289, 0.11892027521573008, 0.07492593311458978, 0.07492593311458978, 0.8241852642604875, 0.8716545606128956, 0.028117889052028888, 0.08435366715608666, 0.9488656415908289, 0.38599804696694745, 0.08577734377043277, 0.2573320313112983, 0.02144433594260819, 0.23588769536869011, 0.9339354374735759, 0.2054773648898666, 0.6164320946695998, 0.5798379709640499, 0.2448204766292655, 0.11596759419280997, 0.05154115297458221, 0.8852714154123129, 0.29616541781835537, 0.25667669544257465, 0.19744361187890358, 0.17769925069101322, 0.059233083563671074, 0.5676156657825565, 0.03960109296157371, 0.1716047361668194, 0.06600182160262286, 0.14520400752577028, 0.20696980351407165, 0.6209094105422149, 0.8350055960891868, 0.462735255957357, 0.12765110509168467, 0.19945485170575733, 0.15158568729637556, 0.055847358477612054, 0.12574040975563433, 0.6706155186967163, 0.16765387967417908, 0.39961854692386223, 0.26290693876569887, 0.2734232163163268, 0.06309766530376773, 0.11846874293050316, 0.16585624010270442, 0.5923437146525158, 0.11846874293050316, 0.2773341889899104, 0.09244472966330347, 0.5546683779798208, 0.8139007413118126, 0.7600438242720888, 0.17530785418086284, 0.08765392709043142, 0.08765392709043142, 0.61357748963302, 0.22680218039332542, 0.3441136530105627, 0.27372676944022034, 0.03128305936459661, 0.10949070777608813, 0.10197444005733848, 0.16995740009556412, 0.16995740009556412, 0.577855160324918, 0.47180398268130413, 0.3774431861450433, 0.053920455163577616, 0.06740056895447202, 0.026960227581788808, 0.8167256936421621, 0.13612094894036034, 0.28578053327346986, 0.1857573466277554, 0.20004637329142888, 0.1714683199640819, 0.1714683199640819, 0.9371425985419414, 0.6309950946332096, 0.8349979253115916, 0.7549452778542121, 0.047184079865888254, 0.023592039932944127, 0.1651442795306089, 0.5784887037380295, 0.04627909629904236, 0.09255819259808472, 0.27767457779425414, 0.9614826073257582, 0.3031971814467672, 0.03368857571630746, 0.572705787177227, 0.06737715143261493, 0.3034455782266198, 0.03793069727832748, 0.6068911564532397, 0.03793069727832748, 0.8138989406153148, 0.8344668905162207, 0.04391931002716951, 0.04391931002716951, 0.08783862005433903, 0.15525754935315772, 0.5434014227360521, 0.2328863240297366, 0.051752516451052576, 0.19439794080437267, 0.583193822413118, 0.11108453760249867, 0.083313403201874, 0.027771134400624668, 0.206570136692578, 0.103285068346289, 0.4647828075583005, 0.06885671223085933, 0.17214178057714832, 0.35262340162629957, 0.06411334575023629, 0.12822669150047258, 0.06411334575023629, 0.4167367473765359, 0.8350226626893025, 0.15337572987303014, 0.15337572987303014, 0.6135029194921205, 0.7746281928486927, 0.1223097146603199, 0.0815398097735466, 0.0407699048867733, 0.8138997263300258, 0.35474015358715344, 0.2857629015007625, 0.17737007679357672, 0.07883114524158966, 0.09853893155198706, 0.7522201355660048, 0.04066054786843269, 0.20330273934216347, 0.8937116509439607, 0.06383654649599718, 0.03191827324799859, 0.8999731574640562, 0.3259418342680849, 0.40609146564548276, 0.25647882040767334, 0.010686617516986388, 0.8138996315085613, 0.2641830020741145, 0.22644257320638386, 0.28934328798593495, 0.10064114364728172, 0.11322128660319193, 0.23462556567096748, 0.34127355006686183, 0.24529036411055694, 0.10664798439589432, 0.07465358907712602, 0.5008185907263483, 0.21677222583677758, 0.15697299112318377, 0.10091120857918956, 0.029899617356796908, 0.5122349224274196, 0.1259594071542835, 0.18474046382628248, 0.10076752572342682, 0.0755756442925701, 0.2075444799810747, 0.22829892797918216, 0.2075444799810747, 0.12452668798864482, 0.24905337597728963, 0.20558391217756372, 0.6167517365326912, 0.7923622459890023, 0.04952264037431264, 0.09904528074862529, 0.23531439002308668, 0.6417665182447818, 0.042784434549652126, 0.042784434549652126, 0.042784434549652126, 0.27039015931449284, 0.14107312659886584, 0.3526828164971646, 0.058780469416194095, 0.1763414082485823, 0.8762179105326608, 0.09393020872802516, 0.3757208349121006, 0.4696510436401258, 0.40208100507064704, 0.20953517165653437, 0.18121960791916486, 0.14157781868684755, 0.06795735296968683, 0.6309092304534987, 0.46777691604541727, 0.06378776127892054, 0.1913632838367616, 0.23388845802270863, 0.04252517418594702, 0.8138995639682609, 0.3849156624288276, 0.2474457829899606, 0.054987951775546794, 0.274939758877734, 0.054987951775546794, 0.9065570463580407, 0.8727764444843278, 0.2753122964888149, 0.4534555471580481, 0.19433809163916346, 0.06477936387972115, 0.016194840969930287, 0.24502128984009755, 0.5332816308284476, 0.11530413639534001, 0.057652068197670006, 0.0720650852470875, 0.20064536608347477, 0.46148434199199195, 0.20064536608347477, 0.060193609825042425, 0.060193609825042425, 0.813899667756853, 0.11610470714544871, 0.5805235357272435, 0.21562302755583332, 0.0331727734701282, 0.049759160205192304, 0.2620004851277941, 0.17466699008519607, 0.41920077620447055, 0.06986679603407843, 0.08733349504259803, 0.8139004726562322, 0.8649467463601711, 0.07207889553001426, 0.876765574777788, 0.4463074310641887, 0.0714091889702702, 0.12496608069797284, 0.26778445863851325, 0.08926148621283773, 0.6309937807585945, 0.08082393327133616, 0.8890632659846978, 0.8763121985133859, 0.08676882671814712, 0.26030648015444136, 0.08676882671814712, 0.5206129603088827, 0.4707957901211288, 0.16234337590383752, 0.06493735036153502, 0.06493735036153502, 0.22728072626537252, 0.42233957816908024, 0.1520422481408689, 0.11825508188734248, 0.09291470719719766, 0.21116978908454012, 0.4476058154229026, 0.17904232616916105, 0.029840387694860176, 0.3282442646434619, 0.056593581779301856, 0.9054973084688297, 0.8762662816104813, 0.3045450315371859, 0.15227251576859294, 0.6090900630743717, 0.901845906158204, 0.2197911773979977, 0.7326372579933256, 0.07326372579933256, 0.4619790891263786, 0.4850780435826975, 0.04619790891263786, 0.8138999202253895, 0.8139002667764136, 0.12781954483039415, 0.7030074965671679, 0.12781954483039415, 0.06390977241519707, 0.9614885108276299, 0.8334641348457257, 0.10871271324074683, 0.4560926870382834, 0.12438891464680454, 0.29024080084254394, 0.04146297154893485, 0.0829259430978697, 0.11912020611352801, 0.28588849467246724, 0.1905923297816448, 0.4288327420087008, 0.3171484550016267, 0.47572268250244004, 0.11893067062561001, 0.059465335312805005, 0.01982177843760167, 0.827726014501432, 0.20337540865459863, 0.610126225963796, 0.5673496859806673, 0.08958152936536852, 0.11944203915382469, 0.1045117842595966, 0.11944203915382469, 0.8277394575232547, 0.9340686070406723, 0.23082633638299555, 0.14204697623568957, 0.49716441682491347, 0.12429110420622837, 0.017755872029461196, 0.36205304399045096, 0.21119760899442974, 0.22628315249403186, 0.1961120654948276, 0.015085543499602123, 0.26477424982164754, 0.3971613747324713, 0.2758065102308829, 0.04412904163694126, 0.03309678122770594, 0.09056352451407608, 0.7245081961126086, 0.18112704902815216, 0.9301806036814142, 0.8440457682559843, 0.19396456374018173, 0.5818936912205451, 0.14547342280513628, 0.04849114093504543, 0.4379437394317414, 0.28581591415545227, 0.14290795707772613, 0.09219868198562978, 0.0414894068935334, 0.2975509159333631, 0.13733119196924448, 0.2517738519436149, 0.2517738519436149, 0.06866559598462224, 0.876229335877759, 0.29687269870675864, 0.5619376082663646, 0.09542336744145814, 0.021205192764768475, 0.021205192764768475, 0.9741790044982819, 0.8762143794021903, 0.6301272703423587, 0.8349909719901202, 0.8277279566779189, 0.8277343291649447, 0.9371622712365614, 0.33502831163787716, 0.5264730611452355, 0.047861187376839594, 0.047861187376839594, 0.8349932618221191, 0.1344975257526988, 0.2689950515053976, 0.3650647127573253, 0.1729253902534699, 0.05764179675115663, 0.937215990961645, 0.9614829506067093, 0.9371513090484738, 0.8763105441859612, 0.8371183281171406, 0.04405885937458635, 0.13217657812375905, 0.45950190543858355, 0.12092155406278514, 0.22975095271929177, 0.1813823310941777, 0.329357432788363, 0.17964950879365255, 0.4042113947857182, 0.044912377198413136, 0.044912377198413136, 0.8139008461788766, 0.5927052256682163, 0.11027073965920302, 0.20675763686100568, 0.05513536982960151, 0.04135152737220114, 0.9066470925170094, 0.9371617544613134, 0.28280700023833816, 0.26105261560461984, 0.2392982309709015, 0.17403507706974655, 0.03263157695057748, 0.8277310007464591, 0.6721502661700385, 0.09271038154069496, 0.11588797692586869, 0.07725865128391246, 0.04635519077034748, 0.4526575803412392, 0.09053151606824784, 0.4526575803412392, 0.39921781007753404, 0.1287799387346884, 0.18029191422856378, 0.11590194486121956, 0.1931699081020326, 0.26698371946416743, 0.34913255622237277, 0.23104360338245256, 0.13349185973208372, 0.02053720918955134, 0.32390093140693205, 0.10796697713564402, 0.5398348856782201, 0.5375337141980063, 0.19073776955413127, 0.10981871580389375, 0.028899662053656253, 0.12715851303608752, 0.6685996479515393, 0.016307308486622908, 0.016307308486622908, 0.29353155275921233, 0.6440920523916641, 0.020127876637239504, 0.020127876637239504, 0.32204602619583206, 0.8277261025891215, 0.6758817858249779, 0.16897044645624448, 0.8138998552933892, 0.8277324788225754, 0.8768664829235127, 0.9616090977996334, 0.3036384770649118, 0.6072769541298236, 0.20666111030489273, 0.7233138860671245, 0.7526234938918114, 0.3502211079814616, 0.10944409624420676, 0.3502211079814616, 0.1313329154930481, 0.05472204812210338, 0.9074386085602716, 0.5104846367937647, 0.2219498420842455, 0.07768244472948593, 0.12207241314633503, 0.07768244472948593, 0.8043363221354064, 0.11490518887648664, 0.05745259443824332, 0.8277353125865325, 0.058059776780211306, 0.058059776780211306, 0.8418667633130639, 0.8350143319419662, 0.12999366852401611, 0.35748258844104436, 0.44414503412372175, 0.06499683426200806, 0.8399508685486634, 0.08399508685486634, 0.876229263539007, 0.1277879820967535, 0.766727892580521, 0.24310664806708907, 0.5851041360258754, 0.0947703882295432, 0.008240903324308104, 0.07416812991877293, 0.26519867919170664, 0.47456605750094866, 0.18145172786800978, 0.05583130088246455, 0.013957825220616138, 0.07581056071274016, 0.30324224285096063, 0.6064844857019213, 0.6838133883254874, 0.1450513247963155, 0.06216485348413522, 0.10360808914022536, 0.9062081122597604, 0.9725181782389832, 0.8350000307549356, 0.7776163107052497, 0.9063894918864259, 0.4427006432574869, 0.09364821299677607, 0.22135032162874346, 0.07662126517918043, 0.1617560042671587, 0.7842206927198223, 0.06358546157187749, 0.04239030771458499, 0.007065051285764165, 0.09891071800069831, 0.32178122278477095, 0.3120302766397779, 0.21452081518984728, 0.1365132460299028, 0.01950189228998612, 0.6605199352247814, 0.017851890141210306, 0.017851890141210306, 0.017851890141210306, 0.3034821324005752, 0.15333931332113446, 0.15333931332113446, 0.6133572532845378, 0.8350015827390274, 0.5617076773514953, 0.19735675150187673, 0.1821754629248093, 0.06072515430826976, 0.9800618666602534, 0.5873157414058107, 0.017273992394288548, 0.14682893535145267, 0.025910988591432822, 0.2245619011257511, 0.20506993933048434, 0.615209817991453, 0.7606482979707512, 0.07540853845382602, 0.22622561536147803, 0.22622561536147803, 0.45245123072295607, 0.7778750472924756, 0.8277329299597406, 0.8763607311376561, 0.3138980777025332, 0.3792935105572276, 0.19618629856408323, 0.05231634628375553, 0.06539543285469442, 0.8364514658330889, 0.1932805702515773, 0.7731222810063092, 0.8762066137786511, 0.8128444672413709, 0.18247528856438938, 0.8108494599061472, 0.17070514945392573, 0.1453357461416009, 0.7266787307080045, 0.20442042497234217, 0.6132612749170265, 0.9061979405896435, 0.27576265531261984, 0.23979361331532162, 0.299742016644152, 0.15586584865495906, 0.02397936133153216, 0.8349923580656108, 0.8762108710150307, 0.6131513845360086, 0.09255115238279375, 0.21980898690913514, 0.05784447023924609, 0.011568894047849219, 0.4956548559986887, 0.029156167999922867, 0.029156167999922867, 0.4081863519989201, 0.058312335999845734, 0.7984639221389864, 0.11406627459128378, 0.8139000223990129, 0.8761467948555438, 0.827726419650286, 0.8762186141832359, 0.16704692268089955, 0.7934728827342729, 0.08352346134044977, 0.8541222339665683, 0.8349921419125478, 0.20508579459373733, 0.615257383781212, 0.20410385795634753, 0.6123115738690426, 0.19313156157534256, 0.12875437438356171, 0.06437718719178086, 0.5793946847260277, 0.11552080423935442, 0.8086456296754809, 0.6827495708098221, 0.17068739270245553, 0.08534369635122777, 0.1815712794899515, 0.726285117959806, 0.9478072636041297, 0.21644439550630679, 0.09619750911391413, 0.3847900364556565, 0.12024688639239266, 0.19239501822782826, 0.8139013482409067, 0.20591550150429214, 0.160156501170005, 0.5948670043457328, 0.02287950016714357, 0.5415101432413538, 0.11107900374181616, 0.05553950187090808, 0.2776975093545404, 0.8349971757189069, 0.608894686049817, 0.08430849499151312, 0.06557327388228798, 0.07494088443690056, 0.16861698998302624, 0.9373368233619291, 0.31255715205291135, 0.10418571735097044, 0.2083714347019409, 0.06945714490064696, 0.31255715205291135, 0.6976235765335405, 0.027537772757902913, 0.036717030343870555, 0.027537772757902913, 0.2203021820632233, 0.937215918795847, 0.8683933236265365, 0.10854916545331707, 0.4141069185840789, 0.21999430049779192, 0.10352672964601972, 0.10352672964601972, 0.16823093567478206, 0.06666774926312184, 0.800012991157462, 0.06666774926312184, 0.5798284505720523, 0.21743566896451963, 0.13287735325609532, 0.07247855632150654, 0.8538756925206165, 0.07762506295641967, 0.6308487731673681, 0.6308948254736333, 0.8277480043840458, 0.2283058966573768, 0.07610196555245893, 0.6849176899721304, 0.08699478657831144, 0.8264504724939588, 0.04349739328915572, 0.8138994570161664, 0.9086228373714863, 0.7961567868953607, 0.01840824940798522, 0.023010311759981524, 0.032214436463974136, 0.13345980820789283, 0.9304609102459761, 0.3381831082161992, 0.1423928876699786, 0.10679466575248395, 0.3559822191749465, 0.053397332876241974, 0.7571244154133511, 0.21632126154667175, 0.2280205645680551, 0.19761782262564775, 0.4256383871937029, 0.07600685485601837, 0.09120822582722204, 0.8349916227646741, 0.3996162310415606, 0.2473814763590613, 0.15223475468249928, 0.13320541034718686, 0.06660270517359343, 0.9038848628263718, 0.09038848628263718, 0.9199906534196916, 0.6244713653842067, 0.15335318501334655, 0.07667659250667327, 0.6900893325600594, 0.07667659250667327, 0.9698862680199518, 0.8394279798062894, 0.12914276612404452, 0.11308330402377961, 0.7915831281664573, 0.8383842997521527, 0.17995551838029417, 0.6448406075293874, 0.08997775919014708, 0.08997775919014708, 0.3637823705214064, 0.0692918800993155, 0.15590673022345988, 0.17322970024828876, 0.24252158034760427, 0.9302305613070708, 0.3468662194819617, 0.3468662194819617, 0.17343310974098086, 0.0933870590912974, 0.026682016883227827, 0.8539513659966981, 0.6161763421739525, 0.1232352684347905, 0.09584965322705928, 0.013692807603865612, 0.1506208836425217, 0.07208891698504734, 0.216266750955142, 0.7208891698504734, 0.9074368571790989, 0.4222629954316227, 0.48258628049328306, 0.06032328506166038, 0.8762283456889034, 0.26879717890908317, 0.2804840127746955, 0.2103630095810216, 0.15192884025296005, 0.08180783705928618, 0.5139196641161822, 0.12372140062056237, 0.19985764715629306, 0.01903406163393267, 0.14275546225449504, 0.8199623167526078, 0.06833019306271731, 0.06833019306271731, 0.9614827877300581, 0.3542344944987779, 0.24599617673526242, 0.14759770604115746, 0.21647663552703095, 0.03935938827764199, 0.2649196788103136, 0.331149598512892, 0.27438109591068194, 0.0662299197025784, 0.0662299197025784, 0.827727363983774, 0.8688404828054926, 0.22143941341201143, 0.4112446249080212, 0.28470781724401467, 0.04745130287400245, 0.03163420191600163, 0.2736282283657106, 0.36038839833532615, 0.19354191762452702, 0.10010788842647948, 0.0800863107411836, 0.3016873335133284, 0.4128352984919231, 0.09526968426736686, 0.09526968426736686, 0.09526968426736686, 0.6951072664454996, 0.11121716263127994, 0.05560858131563997, 0.13902145328909993, 0.23951585495022062, 0.3399579876712809, 0.17770531173726048, 0.10816845062268028, 0.12362108642592033, 0.6304224091581353, 0.6410725423642978, 0.1479398174686841, 0.180815332461725, 0.016437757496520454, 0.8349978103597855, 0.906336624447445, 0.9067350581928978, 0.4192512456060461, 0.40372342169471104, 0.13975041520201537, 0.04658347173400512, 0.5249780791271718, 0.408316283765578, 0.8349906619628955, 0.14986049148234898, 0.19981398864313196, 0.31637214868495894, 0.24976748580391495, 0.08325582860130498, 0.7526364552130926, 0.8334063433401455, 0.3729390607994194, 0.06992607389989114, 0.44286513469931055, 0.11654345649981857, 0.6942232668036868, 0.06566976848142983, 0.12195814146551255, 0.009381395497347119, 0.10788604821949187, 0.8675272639326175, 0.10844090799157718, 0.5120289333090038, 0.12800723332725095, 0.19782936059666056, 0.10473319090411441, 0.046548084846273076, 0.43367117914830206, 0.5420889739353776, 0.24127016230306486, 0.3122319747451428, 0.2980396122567272, 0.11353889990732464, 0.042577087465246743, 0.9371634768723625, 0.8764728461055544, 0.2066532443751356, 0.6199597331254069, 0.8762288279020354, 0.7526375372695387, 0.8349927583407625, 0.8277240219317168, 0.8139012065062835, 0.8138988896825383, 0.5753046839438929, 0.14688630228354713, 0.11016472671266034, 0.12240525190295594, 0.06120262595147797, 0.813899433394302, 0.2936096118687688, 0.42818068397528786, 0.13457107210651906, 0.09786987062292295, 0.0367012014835961, 0.94867622930877, 0.876214083574703, 0.3824666546627541, 0.12206382595619812, 0.2197148867211566, 0.195302121529917, 0.08137588397079874, 0.8138993878849843, 0.7782418214263472, 0.3675067732486303, 0.15925293507440647, 0.2572547412740412, 0.049000903099817375, 0.1715031608493608, 0.2736546898135569, 0.16840288603911194, 0.14735252528422293, 0.29470505056844587, 0.10525180377444496, 0.9302641077984151, 0.9072429567379469, 0.16699934435768504, 0.3757485248047914, 0.1948325684172992, 0.08349967217884252, 0.18091595638749214, 0.8350020016351409, 0.8603435936423045, 0.09559373262692272, 0.2556384709226994, 0.33082625648819924, 0.1353380140178997, 0.24060091380959947, 0.015037557113099967], \"Term\": [\"advice\", \"advice\", \"advice\", \"advice\", \"advice\", \"afford\", \"age\", \"age\", \"age\", \"age\", \"age\", \"amazing_brave\", \"america\", \"andreas\", \"angry\", \"angry\", \"angry\", \"angry\", \"angry\", \"ankle\", \"ankle\", \"anniversary\", \"anniversary\", \"anniversary\", \"anniversary\", \"anniversary\", \"antibiotic\", \"antibiotic\", \"antibiotic\", \"appreciation\", \"approve\", \"approve\", \"april\", \"april\", \"april\", \"april\", \"asleep\", \"asleep\", \"asthma\", \"attract\", \"atypical\", \"awkward\", \"awkward\", \"awkward\", \"bald\", \"bald\", \"bald\", \"bald\", \"beat\", \"beat\", \"beat\", \"beat\", \"beat\", \"bedroom\", \"bedroom\", \"bedroom\", \"begin\", \"begin\", \"begin\", \"begin\", \"begin\", \"bell\", \"bell\", \"bell\", \"biopsy\", \"biopsy\", \"biopsy\", \"biopsy_result\", \"birthday\", \"birthday\", \"birthday\", \"birthday\", \"birthday\", \"blah\", \"blanket\", \"blanket\", \"blood\", \"blood\", \"blood\", \"blood\", \"bloody\", \"body\", \"body\", \"body\", \"body\", \"body\", \"bone\", \"bone\", \"bone\", \"bone\", \"bone\", \"boost\", \"boost\", \"border\", \"brain\", \"brain\", \"brain\", \"brain\", \"brain\", \"brave\", \"brave\", \"brave\", \"break\", \"break\", \"break\", \"break\", \"brother\", \"brother\", \"brother\", \"brother\", \"buddy\", \"buddy\", \"buddy\", \"busy_case\", \"campus\", \"cancerous\", \"cancerous\", \"cancerous\", \"cancerous\", \"care\", \"care\", \"care\", \"care\", \"care\", \"celebrate\", \"celebrate\", \"celebrate\", \"celebrate\", \"cell\", \"cell\", \"cell\", \"cell\", \"cell\", \"certain\", \"certain\", \"change\", \"change\", \"change\", \"change\", \"change\", \"charleston\", \"chart\", \"cheese\", \"christmas\", \"christmas\", \"christmas\", \"christmas\", \"clear\", \"clear\", \"clear\", \"clear\", \"cliff\", \"clinical\", \"clinical\", \"clinical\", \"clinical\", \"clinical_trial\", \"clinical_trial\", \"clinical_trial\", \"clinical_trial\", \"clutch\", \"cm\", \"cm\", \"cm\", \"cm\", \"comfort\", \"comfort\", \"comfort\", \"comfort\", \"comfortable\", \"comfortable\", \"comfortable\", \"comfortable\", \"comfortable\", \"comment\", \"comment\", \"comment\", \"comment\", \"comment\", \"complete\", \"complete\", \"complete\", \"complete\", \"complete\", \"compwalla\", \"concerned\", \"concerned\", \"concerned\", \"count\", \"count\", \"count\", \"count\", \"crafty\", \"cry\", \"cry\", \"cry\", \"cry\", \"cry\", \"ct\", \"ct\", \"ct\", \"ct_scan\", \"ct_scan\", \"ct_scan\", \"curable\", \"dad\", \"dad\", \"dad\", \"dad\", \"dead_sure\", \"deal\", \"deal\", \"deal\", \"deal\", \"deal\", \"death\", \"death\", \"death\", \"death\", \"death\", \"diagnose\", \"diagnose\", \"diagnose\", \"diagnose\", \"diagnose\", \"diagnosis\", \"diagnosis\", \"diagnosis\", \"diagnosis\", \"diagnosis\", \"different\", \"different\", \"different\", \"different\", \"different\", \"disney\", \"disney\", \"dose\", \"dose\", \"dose\", \"easy\", \"easy\", \"easy\", \"easy\", \"easy\", \"edit\", \"edit\", \"edit\", \"edit\", \"edit\", \"employee\", \"encouragement\", \"encouragement\", \"encouragement\", \"end\", \"end\", \"end\", \"end\", \"end\", \"enemy\", \"enjoy\", \"enjoy\", \"enjoy\", \"enjoy\", \"enjoy\", \"epic_roll\", \"er\", \"er\", \"er\", \"er\", \"er\", \"experienced\", \"extensive\", \"eye\", \"eye\", \"eye\", \"eye\", \"eye\", \"face\", \"face\", \"face\", \"face\", \"face\", \"fall\", \"fall\", \"fall\", \"fall\", \"fall\", \"fang\", \"father\", \"father\", \"father\", \"father\", \"father\", \"feeling\", \"feeling\", \"feeling\", \"feeling\", \"feeling\", \"ferocious\", \"fever\", \"fever\", \"field\", \"finish\", \"finish\", \"finish\", \"finish\", \"finish\", \"firm\", \"flee\", \"flee\", \"flood\", \"folk\", \"folk\", \"folk\", \"folk\", \"follow\", \"follow\", \"follow\", \"follow\", \"follow\", \"free\", \"free\", \"free\", \"free\", \"free\", \"friday\", \"friday\", \"friday\", \"friday\", \"fridge\", \"fridge\", \"functional\", \"gamma\", \"gamma\", \"gamma\", \"genetic\", \"gift\", \"gift\", \"gift\", \"god\", \"god\", \"god\", \"goddammit_stop\", \"godless\", \"grief\", \"grief\", \"grief\", \"grief\", \"ground\", \"growth\", \"growth\", \"guess\", \"guess\", \"guess\", \"guess\", \"guess\", \"hair\", \"hair\", \"hair\", \"hair\", \"hand\", \"hand\", \"hand\", \"hand\", \"hand\", \"handicap\", \"happend\", \"happend\", \"happy\", \"happy\", \"happy\", \"happy\", \"happy\", \"harmful\", \"harsh\", \"hate\", \"hate\", \"hate\", \"hate\", \"hate\", \"head\", \"head\", \"head\", \"head\", \"head\", \"heart\", \"heart\", \"heart\", \"heart\", \"heart\", \"heart_break\", \"heart_break\", \"heart_break\", \"high_dose\", \"high_grade\", \"hip\", \"hip\", \"hip\", \"hip\", \"hospital\", \"hospital\", \"hospital\", \"hospital\", \"hospital\", \"house\", \"house\", \"house\", \"house\", \"house\", \"humour\", \"husband\", \"husband\", \"husband\", \"husband\", \"husband\", \"husband_face\", \"identical\", \"idiot\", \"industry\", \"insecurity\", \"instance\", \"instinct\", \"insurance\", \"insurance\", \"insurance\", \"insurance\", \"ipilimumab\", \"job\", \"job\", \"job\", \"job\", \"job\", \"journal\", \"kale\", \"kart\", \"kevin\", \"keytruda\", \"keytruda\", \"keytruda\", \"kid\", \"kid\", \"kid\", \"kid\", \"kind\", \"kind\", \"kind\", \"kind\", \"kind\", \"leap_lock\", \"leg\", \"leg\", \"leg\", \"leg\", \"leg\", \"levi\", \"librarian\", \"like\", \"like\", \"like\", \"like\", \"like\", \"limp\", \"liver\", \"liver\", \"liver\", \"liver\", \"liver\", \"lobe\", \"lobe\", \"lobe\", \"long\", \"long\", \"long\", \"long\", \"long\", \"lose\", \"lose\", \"lose\", \"lose\", \"lose\", \"lovely\", \"lovely\", \"lovely\", \"lung\", \"lung\", \"lung\", \"lung\", \"lung\", \"lymph\", \"lymph\", \"lymph\", \"lymph\", \"lymph_node\", \"lymph_node\", \"lymph_node\", \"lymph_node\", \"magnum\", \"making\", \"making\", \"mama\", \"manifest\", \"marine\", \"marker\", \"masse\", \"masse\", \"mate\", \"mate\", \"math\", \"mean\", \"mean\", \"mean\", \"mean\", \"mean\", \"medium\", \"meet\", \"meet\", \"meet\", \"meet\", \"meet\", \"meeting\", \"meeting\", \"meeting\", \"mega\", \"melanoma\", \"melanoma\", \"melanoma\", \"miranda\", \"miss\", \"miss\", \"miss\", \"miss\", \"mm\", \"mm\", \"mobile\", \"mole\", \"mole\", \"mom\", \"mom\", \"mom\", \"mom\", \"mom\", \"mother\", \"mother\", \"mother\", \"mother\", \"mother\", \"mouth\", \"mouth\", \"mouth\", \"mri\", \"mri\", \"mri\", \"mri\", \"mris\", \"mutation\", \"mychart\", \"nail\", \"neuroendocrine\", \"new\", \"new\", \"new\", \"new\", \"new\", \"news\", \"news\", \"news\", \"news\", \"news\", \"night\", \"night\", \"night\", \"night\", \"night\", \"node\", \"node\", \"node\", \"node\", \"node\", \"nodule\", \"nodule\", \"nodule\", \"norm\", \"normal\", \"normal\", \"normal\", \"normal\", \"nose\", \"oncologist\", \"oncologist\", \"oncologist\", \"oncologist\", \"oncologist\", \"opdivo\", \"opdivo\", \"ostomy\", \"outcome\", \"outcome\", \"outcome\", \"outcome\", \"package\", \"pan\", \"paranoid\", \"parent\", \"parent\", \"parent\", \"parent\", \"parent\", \"parking\", \"peaceful\", \"peaceful\", \"peritoneum\", \"pet\", \"pet\", \"pet_scan\", \"pet_scan\", \"pissed\", \"pissed\", \"pit\", \"pit\", \"pizza\", \"place\", \"place\", \"place\", \"place\", \"place\", \"pleased\", \"pmc\", \"point\", \"point\", \"point\", \"point\", \"point\", \"port\", \"port\", \"port\", \"port\", \"port\", \"powerless\", \"powerless\", \"prehistoric\", \"profile\", \"psc\", \"pt\", \"punch\", \"punch\", \"punch\", \"punch_face\", \"quarterly\", \"quote\", \"quote\", \"radiologist\", \"radiologist\", \"radiotherapy\", \"radiotherapy\", \"radiotherapy\", \"radiotherapy\", \"rage\", \"rage\", \"random\", \"random\", \"random\", \"rang\", \"rang\", \"range\", \"real\", \"real\", \"real\", \"real\", \"real\", \"reason_crowd\", \"reddit\", \"reddit\", \"reddit\", \"reddit\", \"remission\", \"remission\", \"remission\", \"remission\", \"remodel\", \"remove\", \"remove\", \"remove\", \"remove\", \"remove\", \"reside\", \"response\", \"response\", \"response\", \"response\", \"response\", \"result\", \"result\", \"result\", \"result\", \"result\", \"revalidation\", \"reveal\", \"reveal\", \"right\", \"right\", \"right\", \"right\", \"right\", \"roll\", \"roll\", \"roll\", \"round\", \"round\", \"round\", \"round\", \"routine\", \"routine\", \"roxy\", \"roxybenedicto\", \"rubbish\", \"rule\", \"rule\", \"rule\", \"rush\", \"rush\", \"rush\", \"rush_kick\", \"sbrt\", \"scan\", \"scan\", \"scan\", \"scan\", \"scan\", \"scans\", \"school\", \"school\", \"school\", \"school\", \"school\", \"search\", \"search\", \"send\", \"send\", \"send\", \"send\", \"send\", \"sentinel\", \"share\", \"share\", \"share\", \"share\", \"share\", \"share_news\", \"share_news\", \"shave\", \"shaving\", \"shitty\", \"shitty\", \"shitty\", \"shitty\", \"shrink\", \"shrunk\", \"shrunk\", \"sible\", \"sible\", \"silly\", \"sister\", \"sister\", \"sister\", \"sister\", \"sit\", \"sit\", \"sit\", \"sit\", \"sit\", \"skull\", \"sleep\", \"sleep\", \"sleep\", \"sleep\", \"sleep\", \"slice\", \"small\", \"small\", \"small\", \"small\", \"small\", \"social\", \"social\", \"social\", \"social_medium\", \"sound\", \"sound\", \"sound\", \"spell\", \"spend\", \"spend\", \"spend\", \"spend\", \"spend\", \"spread\", \"spread\", \"spread\", \"spread\", \"spread\", \"spread_liver\", \"spread_liver\", \"spread_liver\", \"stagger\", \"stay\", \"stay\", \"stay\", \"stay\", \"stay\", \"stop\", \"stop\", \"stop\", \"stop\", \"stop\", \"succ\", \"success\", \"suffer\", \"suffer\", \"suffer\", \"suffer\", \"suffer\", \"support\", \"support\", \"support\", \"support\", \"support\", \"sure\", \"sure\", \"sure\", \"sure\", \"sure\", \"surgeon\", \"surgeon\", \"surgeon\", \"surgeon\", \"talk\", \"talk\", \"talk\", \"talk\", \"talk\", \"tbh\", \"test\", \"test\", \"test\", \"test\", \"testicle\", \"thanksgiving\", \"tho\", \"thought\", \"thought\", \"thought\", \"thought\", \"thyroid\", \"thyroid\", \"tile\", \"tired\", \"tired\", \"tired\", \"tired\", \"tired\", \"toe\", \"tremendous\", \"trial\", \"trial\", \"trial\", \"trial\", \"tumor\", \"tumor\", \"tumor\", \"tumor\", \"tumor\", \"tumor_shrink\", \"tumor_shrink\", \"turn\", \"turn\", \"turn\", \"turn\", \"turn\", \"undergo\", \"undergo\", \"understand\", \"understand\", \"understand\", \"understand\", \"understand\", \"unsolicited\", \"upcoming\", \"urine\", \"urine\", \"vaccine\", \"val\", \"vertebra\", \"vietnam\", \"wait_fridge\", \"wait_rush\", \"walk\", \"walk\", \"walk\", \"walk\", \"walk\", \"walk_stagger\", \"watch\", \"watch\", \"watch\", \"watch\", \"watch\", \"white\", \"whore\", \"wife\", \"wife\", \"wife\", \"wife\", \"wife\", \"wife_punch\", \"window\", \"word\", \"word\", \"word\", \"word\", \"word\", \"worry\", \"worry\", \"worry\", \"worry\", \"worry\", \"worse\", \"wreck\", \"write\", \"write\", \"write\", \"write\", \"write\", \"xanex\", \"yell\", \"yell\", \"young\", \"young\", \"young\", \"young\", \"young\"]}, \"R\": 30, \"lambda.step\": 0.01, \"plot.opts\": {\"xlab\": \"PC1\", \"ylab\": \"PC2\"}, \"topic.order\": [2, 4, 3, 5, 1]};\n",
       "\n",
       "function LDAvis_load_lib(url, callback){\n",
       "  var s = document.createElement('script');\n",
       "  s.src = url;\n",
       "  s.async = true;\n",
       "  s.onreadystatechange = s.onload = callback;\n",
       "  s.onerror = function(){console.warn(\"failed to load library \" + url);};\n",
       "  document.getElementsByTagName(\"head\")[0].appendChild(s);\n",
       "}\n",
       "\n",
       "if(typeof(LDAvis) !== \"undefined\"){\n",
       "   // already loaded: just create the visualization\n",
       "   !function(LDAvis){\n",
       "       new LDAvis(\"#\" + \"ldavis_el1046817185027162325394424059\", ldavis_el1046817185027162325394424059_data);\n",
       "   }(LDAvis);\n",
       "}else if(typeof define === \"function\" && define.amd){\n",
       "   // require.js is available: use it to load d3/LDAvis\n",
       "   require.config({paths: {d3: \"https://d3js.org/d3.v5\"}});\n",
       "   require([\"d3\"], function(d3){\n",
       "      window.d3 = d3;\n",
       "      LDAvis_load_lib(\"https://cdn.jsdelivr.net/gh/bmabey/pyLDAvis@3.3.1/pyLDAvis/js/ldavis.v3.0.0.js\", function(){\n",
       "        new LDAvis(\"#\" + \"ldavis_el1046817185027162325394424059\", ldavis_el1046817185027162325394424059_data);\n",
       "      });\n",
       "    });\n",
       "}else{\n",
       "    // require.js not available: dynamically load d3 & LDAvis\n",
       "    LDAvis_load_lib(\"https://d3js.org/d3.v5.js\", function(){\n",
       "         LDAvis_load_lib(\"https://cdn.jsdelivr.net/gh/bmabey/pyLDAvis@3.3.1/pyLDAvis/js/ldavis.v3.0.0.js\", function(){\n",
       "                 new LDAvis(\"#\" + \"ldavis_el1046817185027162325394424059\", ldavis_el1046817185027162325394424059_data);\n",
       "            })\n",
       "         });\n",
       "}\n",
       "</script>"
      ],
      "text/plain": [
       "PreparedData(topic_coordinates=              x         y  topics  cluster       Freq\n",
       "topic                                                \n",
       "1      0.033646 -0.039277       1        1  36.357284\n",
       "3     -0.084603 -0.052494       2        1  22.963657\n",
       "2     -0.036349 -0.014487       3        1  18.905206\n",
       "4     -0.027564  0.111294       4        1  10.984587\n",
       "0      0.114869 -0.005036       5        1  10.789265, topic_info=         Term        Freq       Total Category  logprob  loglift\n",
       "145      scan  217.000000  217.000000  Default  30.0000  30.0000\n",
       "361       mom  242.000000  242.000000  Default  29.0000  29.0000\n",
       "246    result  108.000000  108.000000  Default  28.0000  28.0000\n",
       "352  melanoma   34.000000   34.000000  Default  27.0000  27.0000\n",
       "214     lymph   61.000000   61.000000  Default  26.0000  26.0000\n",
       "..        ...         ...         ...      ...      ...      ...\n",
       "139     right   13.174494   77.274729   Topic5  -5.8817   0.4575\n",
       "361       mom   17.663838  242.691841   Topic5  -5.5884  -0.3937\n",
       "460      care   14.406484  127.864732   Topic5  -5.7923   0.0433\n",
       "216      news   14.238223  141.541789   Topic5  -5.8040  -0.0700\n",
       "50        end   12.177837  176.581333   Topic5  -5.9603  -0.4475\n",
       "\n",
       "[431 rows x 6 columns], token_table=      Topic      Freq    Term\n",
       "term                         \n",
       "958       1  0.342430  advice\n",
       "958       2  0.162204  advice\n",
       "958       3  0.144181  advice\n",
       "958       4  0.144181  advice\n",
       "958       5  0.216272  advice\n",
       "...     ...       ...     ...\n",
       "194       1  0.255638   young\n",
       "194       2  0.330826   young\n",
       "194       3  0.135338   young\n",
       "194       4  0.240601   young\n",
       "194       5  0.015038   young\n",
       "\n",
       "[941 rows x 3 columns], R=30, lambda_step=0.01, plot_opts={'xlab': 'PC1', 'ylab': 'PC2'}, topic_order=[2, 4, 3, 5, 1])"
      ]
     },
     "execution_count": 169,
     "metadata": {},
     "output_type": "execute_result"
    }
   ],
   "source": [
    "pyLDAvis.enable_notebook()\n",
    "vis = pyLDAvis.gensim_models.prepare(lda, doc_term_matrix, dictionary,n_jobs=1)\n",
    "vis\n",
    "#pyLDAvis.save_html(vis, 'lda'+community_name+'.html')"
   ]
  }
 ],
 "metadata": {
  "kernelspec": {
   "display_name": ".venv",
   "language": "python",
   "name": "python3"
  },
  "language_info": {
   "codemirror_mode": {
    "name": "ipython",
    "version": 3
   },
   "file_extension": ".py",
   "mimetype": "text/x-python",
   "name": "python",
   "nbconvert_exporter": "python",
   "pygments_lexer": "ipython3",
   "version": "3.7.7"
  },
  "orig_nbformat": 4
 },
 "nbformat": 4,
 "nbformat_minor": 2
}
